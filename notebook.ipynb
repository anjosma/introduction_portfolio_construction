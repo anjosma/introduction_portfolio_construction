{
 "cells": [
  {
   "cell_type": "markdown",
   "metadata": {},
   "source": [
    "# Week 1\n",
    "## Fundamentals of risk and returns\n",
    "### Fundamentals of Returns"
   ]
  },
  {
   "cell_type": "code",
   "execution_count": 84,
   "metadata": {},
   "outputs": [],
   "source": [
    "import pandas as pd\n",
    "pd.set_option(\"display.max_columns\", 999)\n",
    "import numpy as np\n",
    "from functools import reduce\n",
    "\n",
    "#You can also use plotly backend on Pandas to get some prettier charts. The standard option is 'matplotlib'.\n",
    "#pd.options.plotting.backend = \"plotly\""
   ]
  },
  {
   "cell_type": "code",
   "execution_count": 2,
   "metadata": {},
   "outputs": [
    {
     "data": {
      "text/html": [
       "<div>\n",
       "<style scoped>\n",
       "    .dataframe tbody tr th:only-of-type {\n",
       "        vertical-align: middle;\n",
       "    }\n",
       "\n",
       "    .dataframe tbody tr th {\n",
       "        vertical-align: top;\n",
       "    }\n",
       "\n",
       "    .dataframe thead th {\n",
       "        text-align: right;\n",
       "    }\n",
       "</style>\n",
       "<table border=\"1\" class=\"dataframe\">\n",
       "  <thead>\n",
       "    <tr style=\"text-align: right;\">\n",
       "      <th></th>\n",
       "      <th>BOVA11</th>\n",
       "      <th>ABEV3</th>\n",
       "      <th>AZUL4</th>\n",
       "      <th>BBAS3</th>\n",
       "      <th>CVCB3</th>\n",
       "      <th>JBSS3</th>\n",
       "      <th>OIBR3</th>\n",
       "      <th>SMAL11</th>\n",
       "      <th>SMLS3</th>\n",
       "    </tr>\n",
       "    <tr>\n",
       "      <th>date</th>\n",
       "      <th></th>\n",
       "      <th></th>\n",
       "      <th></th>\n",
       "      <th></th>\n",
       "      <th></th>\n",
       "      <th></th>\n",
       "      <th></th>\n",
       "      <th></th>\n",
       "      <th></th>\n",
       "    </tr>\n",
       "  </thead>\n",
       "  <tbody>\n",
       "    <tr>\n",
       "      <th>2017-04-11</th>\n",
       "      <td>62.42</td>\n",
       "      <td>17.62</td>\n",
       "      <td>22.40</td>\n",
       "      <td>32.82</td>\n",
       "      <td>28.60</td>\n",
       "      <td>10.45</td>\n",
       "      <td>2.69</td>\n",
       "      <td>62.68</td>\n",
       "      <td>64.74</td>\n",
       "    </tr>\n",
       "    <tr>\n",
       "      <th>2017-04-12</th>\n",
       "      <td>61.68</td>\n",
       "      <td>17.67</td>\n",
       "      <td>22.96</td>\n",
       "      <td>32.28</td>\n",
       "      <td>28.72</td>\n",
       "      <td>10.15</td>\n",
       "      <td>2.69</td>\n",
       "      <td>62.10</td>\n",
       "      <td>63.85</td>\n",
       "    </tr>\n",
       "    <tr>\n",
       "      <th>2017-04-13</th>\n",
       "      <td>60.80</td>\n",
       "      <td>17.76</td>\n",
       "      <td>22.99</td>\n",
       "      <td>30.60</td>\n",
       "      <td>29.26</td>\n",
       "      <td>10.20</td>\n",
       "      <td>3.13</td>\n",
       "      <td>62.18</td>\n",
       "      <td>62.58</td>\n",
       "    </tr>\n",
       "    <tr>\n",
       "      <th>2017-04-17</th>\n",
       "      <td>62.25</td>\n",
       "      <td>18.06</td>\n",
       "      <td>22.85</td>\n",
       "      <td>32.02</td>\n",
       "      <td>30.45</td>\n",
       "      <td>10.34</td>\n",
       "      <td>3.10</td>\n",
       "      <td>63.20</td>\n",
       "      <td>65.74</td>\n",
       "    </tr>\n",
       "    <tr>\n",
       "      <th>2017-04-18</th>\n",
       "      <td>61.95</td>\n",
       "      <td>18.16</td>\n",
       "      <td>23.91</td>\n",
       "      <td>32.33</td>\n",
       "      <td>30.55</td>\n",
       "      <td>10.20</td>\n",
       "      <td>3.28</td>\n",
       "      <td>63.40</td>\n",
       "      <td>65.98</td>\n",
       "    </tr>\n",
       "    <tr>\n",
       "      <th>...</th>\n",
       "      <td>...</td>\n",
       "      <td>...</td>\n",
       "      <td>...</td>\n",
       "      <td>...</td>\n",
       "      <td>...</td>\n",
       "      <td>...</td>\n",
       "      <td>...</td>\n",
       "      <td>...</td>\n",
       "      <td>...</td>\n",
       "    </tr>\n",
       "    <tr>\n",
       "      <th>2020-06-01</th>\n",
       "      <td>85.47</td>\n",
       "      <td>12.60</td>\n",
       "      <td>15.35</td>\n",
       "      <td>31.80</td>\n",
       "      <td>15.50</td>\n",
       "      <td>21.96</td>\n",
       "      <td>0.80</td>\n",
       "      <td>97.27</td>\n",
       "      <td>13.38</td>\n",
       "    </tr>\n",
       "    <tr>\n",
       "      <th>2020-06-02</th>\n",
       "      <td>87.55</td>\n",
       "      <td>12.97</td>\n",
       "      <td>16.75</td>\n",
       "      <td>32.82</td>\n",
       "      <td>18.60</td>\n",
       "      <td>21.81</td>\n",
       "      <td>0.83</td>\n",
       "      <td>101.13</td>\n",
       "      <td>15.01</td>\n",
       "    </tr>\n",
       "    <tr>\n",
       "      <th>2020-06-03</th>\n",
       "      <td>89.65</td>\n",
       "      <td>13.25</td>\n",
       "      <td>18.45</td>\n",
       "      <td>34.75</td>\n",
       "      <td>19.82</td>\n",
       "      <td>20.60</td>\n",
       "      <td>0.82</td>\n",
       "      <td>105.77</td>\n",
       "      <td>16.93</td>\n",
       "    </tr>\n",
       "    <tr>\n",
       "      <th>2020-06-04</th>\n",
       "      <td>90.18</td>\n",
       "      <td>13.38</td>\n",
       "      <td>19.08</td>\n",
       "      <td>34.94</td>\n",
       "      <td>19.80</td>\n",
       "      <td>21.47</td>\n",
       "      <td>0.83</td>\n",
       "      <td>105.86</td>\n",
       "      <td>16.89</td>\n",
       "    </tr>\n",
       "    <tr>\n",
       "      <th>2020-06-05</th>\n",
       "      <td>91.05</td>\n",
       "      <td>14.05</td>\n",
       "      <td>21.16</td>\n",
       "      <td>35.20</td>\n",
       "      <td>20.91</td>\n",
       "      <td>20.95</td>\n",
       "      <td>0.84</td>\n",
       "      <td>107.79</td>\n",
       "      <td>17.64</td>\n",
       "    </tr>\n",
       "  </tbody>\n",
       "</table>\n",
       "<p>784 rows × 9 columns</p>\n",
       "</div>"
      ],
      "text/plain": [
       "            BOVA11  ABEV3  AZUL4  BBAS3  CVCB3  JBSS3  OIBR3  SMAL11  SMLS3\n",
       "date                                                                       \n",
       "2017-04-11   62.42  17.62  22.40  32.82  28.60  10.45   2.69   62.68  64.74\n",
       "2017-04-12   61.68  17.67  22.96  32.28  28.72  10.15   2.69   62.10  63.85\n",
       "2017-04-13   60.80  17.76  22.99  30.60  29.26  10.20   3.13   62.18  62.58\n",
       "2017-04-17   62.25  18.06  22.85  32.02  30.45  10.34   3.10   63.20  65.74\n",
       "2017-04-18   61.95  18.16  23.91  32.33  30.55  10.20   3.28   63.40  65.98\n",
       "...            ...    ...    ...    ...    ...    ...    ...     ...    ...\n",
       "2020-06-01   85.47  12.60  15.35  31.80  15.50  21.96   0.80   97.27  13.38\n",
       "2020-06-02   87.55  12.97  16.75  32.82  18.60  21.81   0.83  101.13  15.01\n",
       "2020-06-03   89.65  13.25  18.45  34.75  19.82  20.60   0.82  105.77  16.93\n",
       "2020-06-04   90.18  13.38  19.08  34.94  19.80  21.47   0.83  105.86  16.89\n",
       "2020-06-05   91.05  14.05  21.16  35.20  20.91  20.95   0.84  107.79  17.64\n",
       "\n",
       "[784 rows x 9 columns]"
      ]
     },
     "execution_count": 2,
     "metadata": {},
     "output_type": "execute_result"
    }
   ],
   "source": [
    "prices = []\n",
    "stocks = [\"BOVA11\", \"ABEV3\", \"AZUL4\", \"BBAS3\", \"CVCB3\", \"JBSS3\", \"OIBR3\", \"SMAL11\", \"SMLS3\",] #\"VIVA3\"]\n",
    "for f in stocks:\n",
    "    data = pd.read_csv(\"./br_stocks/{}.csv\".format(f)).dropna()[[\"date\", \"close\"]]\n",
    "    prices.append(data)\n",
    "prices = reduce(lambda x, y: pd.merge(x, y, on='date'), prices)\n",
    "\n",
    "prices['date'] = pd.to_datetime(prices[\"date\"])\n",
    "prices = prices.set_index(\"date\").round(2)\n",
    "prices.columns = stocks\n",
    "prices"
   ]
  },
  {
   "cell_type": "code",
   "execution_count": 3,
   "metadata": {},
   "outputs": [
    {
     "data": {
      "text/html": [
       "<div>\n",
       "<style scoped>\n",
       "    .dataframe tbody tr th:only-of-type {\n",
       "        vertical-align: middle;\n",
       "    }\n",
       "\n",
       "    .dataframe tbody tr th {\n",
       "        vertical-align: top;\n",
       "    }\n",
       "\n",
       "    .dataframe thead th {\n",
       "        text-align: right;\n",
       "    }\n",
       "</style>\n",
       "<table border=\"1\" class=\"dataframe\">\n",
       "  <thead>\n",
       "    <tr style=\"text-align: right;\">\n",
       "      <th></th>\n",
       "      <th>BOVA11</th>\n",
       "      <th>ABEV3</th>\n",
       "      <th>AZUL4</th>\n",
       "      <th>BBAS3</th>\n",
       "      <th>CVCB3</th>\n",
       "      <th>JBSS3</th>\n",
       "      <th>OIBR3</th>\n",
       "      <th>SMAL11</th>\n",
       "      <th>SMLS3</th>\n",
       "    </tr>\n",
       "    <tr>\n",
       "      <th>date</th>\n",
       "      <th></th>\n",
       "      <th></th>\n",
       "      <th></th>\n",
       "      <th></th>\n",
       "      <th></th>\n",
       "      <th></th>\n",
       "      <th></th>\n",
       "      <th></th>\n",
       "      <th></th>\n",
       "    </tr>\n",
       "  </thead>\n",
       "  <tbody>\n",
       "    <tr>\n",
       "      <th>2018-01-31</th>\n",
       "      <td>82.00</td>\n",
       "      <td>21.95</td>\n",
       "      <td>31.05</td>\n",
       "      <td>39.68</td>\n",
       "      <td>55.13</td>\n",
       "      <td>10.05</td>\n",
       "      <td>2.69</td>\n",
       "      <td>84.20</td>\n",
       "      <td>82.15</td>\n",
       "    </tr>\n",
       "    <tr>\n",
       "      <th>2018-02-28</th>\n",
       "      <td>82.50</td>\n",
       "      <td>22.00</td>\n",
       "      <td>33.63</td>\n",
       "      <td>41.80</td>\n",
       "      <td>56.14</td>\n",
       "      <td>9.91</td>\n",
       "      <td>3.02</td>\n",
       "      <td>83.65</td>\n",
       "      <td>84.28</td>\n",
       "    </tr>\n",
       "    <tr>\n",
       "      <th>2018-03-31</th>\n",
       "      <td>82.43</td>\n",
       "      <td>24.07</td>\n",
       "      <td>38.20</td>\n",
       "      <td>41.03</td>\n",
       "      <td>60.65</td>\n",
       "      <td>9.35</td>\n",
       "      <td>2.94</td>\n",
       "      <td>83.75</td>\n",
       "      <td>69.50</td>\n",
       "    </tr>\n",
       "    <tr>\n",
       "      <th>2018-04-30</th>\n",
       "      <td>83.18</td>\n",
       "      <td>23.33</td>\n",
       "      <td>36.40</td>\n",
       "      <td>36.70</td>\n",
       "      <td>57.99</td>\n",
       "      <td>8.75</td>\n",
       "      <td>2.89</td>\n",
       "      <td>85.57</td>\n",
       "      <td>72.00</td>\n",
       "    </tr>\n",
       "    <tr>\n",
       "      <th>2018-05-31</th>\n",
       "      <td>74.07</td>\n",
       "      <td>19.69</td>\n",
       "      <td>26.51</td>\n",
       "      <td>30.37</td>\n",
       "      <td>51.00</td>\n",
       "      <td>8.93</td>\n",
       "      <td>2.63</td>\n",
       "      <td>76.00</td>\n",
       "      <td>58.27</td>\n",
       "    </tr>\n",
       "  </tbody>\n",
       "</table>\n",
       "</div>"
      ],
      "text/plain": [
       "            BOVA11  ABEV3  AZUL4  BBAS3  CVCB3  JBSS3  OIBR3  SMAL11  SMLS3\n",
       "date                                                                       \n",
       "2018-01-31   82.00  21.95  31.05  39.68  55.13  10.05   2.69   84.20  82.15\n",
       "2018-02-28   82.50  22.00  33.63  41.80  56.14   9.91   3.02   83.65  84.28\n",
       "2018-03-31   82.43  24.07  38.20  41.03  60.65   9.35   2.94   83.75  69.50\n",
       "2018-04-30   83.18  23.33  36.40  36.70  57.99   8.75   2.89   85.57  72.00\n",
       "2018-05-31   74.07  19.69  26.51  30.37  51.00   8.93   2.63   76.00  58.27"
      ]
     },
     "execution_count": 3,
     "metadata": {},
     "output_type": "execute_result"
    }
   ],
   "source": [
    "prices.index = pd.Index(prices.index + pd.offsets.MonthEnd(0))\n",
    "prices = prices.loc[~prices.index.duplicated(keep='last')][9:]\n",
    "prices.head()"
   ]
  },
  {
   "cell_type": "code",
   "execution_count": 4,
   "metadata": {},
   "outputs": [
    {
     "data": {
      "text/html": [
       "<div>\n",
       "<style scoped>\n",
       "    .dataframe tbody tr th:only-of-type {\n",
       "        vertical-align: middle;\n",
       "    }\n",
       "\n",
       "    .dataframe tbody tr th {\n",
       "        vertical-align: top;\n",
       "    }\n",
       "\n",
       "    .dataframe thead th {\n",
       "        text-align: right;\n",
       "    }\n",
       "</style>\n",
       "<table border=\"1\" class=\"dataframe\">\n",
       "  <thead>\n",
       "    <tr style=\"text-align: right;\">\n",
       "      <th></th>\n",
       "      <th>BOVA11</th>\n",
       "      <th>ABEV3</th>\n",
       "      <th>AZUL4</th>\n",
       "      <th>BBAS3</th>\n",
       "      <th>CVCB3</th>\n",
       "      <th>JBSS3</th>\n",
       "      <th>OIBR3</th>\n",
       "      <th>SMAL11</th>\n",
       "      <th>SMLS3</th>\n",
       "    </tr>\n",
       "    <tr>\n",
       "      <th>date</th>\n",
       "      <th></th>\n",
       "      <th></th>\n",
       "      <th></th>\n",
       "      <th></th>\n",
       "      <th></th>\n",
       "      <th></th>\n",
       "      <th></th>\n",
       "      <th></th>\n",
       "      <th></th>\n",
       "    </tr>\n",
       "  </thead>\n",
       "  <tbody>\n",
       "    <tr>\n",
       "      <th>2018-02-28</th>\n",
       "      <td>0.006098</td>\n",
       "      <td>0.002278</td>\n",
       "      <td>0.083092</td>\n",
       "      <td>0.053427</td>\n",
       "      <td>0.018320</td>\n",
       "      <td>-0.013930</td>\n",
       "      <td>0.122677</td>\n",
       "      <td>-0.006532</td>\n",
       "      <td>0.025928</td>\n",
       "    </tr>\n",
       "    <tr>\n",
       "      <th>2018-03-31</th>\n",
       "      <td>-0.000848</td>\n",
       "      <td>0.094091</td>\n",
       "      <td>0.135891</td>\n",
       "      <td>-0.018421</td>\n",
       "      <td>0.080335</td>\n",
       "      <td>-0.056509</td>\n",
       "      <td>-0.026490</td>\n",
       "      <td>0.001195</td>\n",
       "      <td>-0.175368</td>\n",
       "    </tr>\n",
       "    <tr>\n",
       "      <th>2018-04-30</th>\n",
       "      <td>0.009099</td>\n",
       "      <td>-0.030744</td>\n",
       "      <td>-0.047120</td>\n",
       "      <td>-0.105533</td>\n",
       "      <td>-0.043858</td>\n",
       "      <td>-0.064171</td>\n",
       "      <td>-0.017007</td>\n",
       "      <td>0.021731</td>\n",
       "      <td>0.035971</td>\n",
       "    </tr>\n",
       "    <tr>\n",
       "      <th>2018-05-31</th>\n",
       "      <td>-0.109522</td>\n",
       "      <td>-0.156022</td>\n",
       "      <td>-0.271703</td>\n",
       "      <td>-0.172480</td>\n",
       "      <td>-0.120538</td>\n",
       "      <td>0.020571</td>\n",
       "      <td>-0.089965</td>\n",
       "      <td>-0.111838</td>\n",
       "      <td>-0.190694</td>\n",
       "    </tr>\n",
       "    <tr>\n",
       "      <th>2018-06-30</th>\n",
       "      <td>-0.050223</td>\n",
       "      <td>-0.086846</td>\n",
       "      <td>-0.195398</td>\n",
       "      <td>-0.056635</td>\n",
       "      <td>-0.113725</td>\n",
       "      <td>0.041433</td>\n",
       "      <td>-0.007605</td>\n",
       "      <td>-0.036842</td>\n",
       "      <td>-0.107603</td>\n",
       "    </tr>\n",
       "  </tbody>\n",
       "</table>\n",
       "</div>"
      ],
      "text/plain": [
       "              BOVA11     ABEV3     AZUL4     BBAS3     CVCB3     JBSS3  \\\n",
       "date                                                                     \n",
       "2018-02-28  0.006098  0.002278  0.083092  0.053427  0.018320 -0.013930   \n",
       "2018-03-31 -0.000848  0.094091  0.135891 -0.018421  0.080335 -0.056509   \n",
       "2018-04-30  0.009099 -0.030744 -0.047120 -0.105533 -0.043858 -0.064171   \n",
       "2018-05-31 -0.109522 -0.156022 -0.271703 -0.172480 -0.120538  0.020571   \n",
       "2018-06-30 -0.050223 -0.086846 -0.195398 -0.056635 -0.113725  0.041433   \n",
       "\n",
       "               OIBR3    SMAL11     SMLS3  \n",
       "date                                      \n",
       "2018-02-28  0.122677 -0.006532  0.025928  \n",
       "2018-03-31 -0.026490  0.001195 -0.175368  \n",
       "2018-04-30 -0.017007  0.021731  0.035971  \n",
       "2018-05-31 -0.089965 -0.111838 -0.190694  \n",
       "2018-06-30 -0.007605 -0.036842 -0.107603  "
      ]
     },
     "execution_count": 4,
     "metadata": {},
     "output_type": "execute_result"
    }
   ],
   "source": [
    "returns = prices.pct_change().dropna()\n",
    "returns.head()"
   ]
  },
  {
   "cell_type": "code",
   "execution_count": 5,
   "metadata": {},
   "outputs": [
    {
     "data": {
      "text/plain": [
       "<matplotlib.axes._subplots.AxesSubplot at 0x7f4cab767dc0>"
      ]
     },
     "execution_count": 5,
     "metadata": {},
     "output_type": "execute_result"
    },
    {
     "data": {
      "image/png": "[encoded data removed]",
      "text/plain": [
       "<Figure size 432x288 with 1 Axes>"
      ]
     },
     "metadata": {
      "needs_background": "light"
     },
     "output_type": "display_data"
    }
   ],
   "source": [
    "prices.plot()"
   ]
  },
  {
   "cell_type": "code",
   "execution_count": 6,
   "metadata": {},
   "outputs": [
    {
     "data": {
      "text/plain": [
       "<matplotlib.axes._subplots.AxesSubplot at 0x7f4ca8d59f10>"
      ]
     },
     "execution_count": 6,
     "metadata": {},
     "output_type": "execute_result"
    },
    {
     "data": {
      "image/png": "[encoded data removed]",
      "text/plain": [
       "<Figure size 432x288 with 1 Axes>"
      ]
     },
     "metadata": {
      "needs_background": "light"
     },
     "output_type": "display_data"
    }
   ],
   "source": [
    "returns.plot.bar()"
   ]
  },
  {
   "cell_type": "code",
   "execution_count": 7,
   "metadata": {},
   "outputs": [
    {
     "data": {
      "text/plain": [
       "BOVA11    0.081173\n",
       "ABEV3     0.090688\n",
       "AZUL4     0.194228\n",
       "BBAS3     0.136568\n",
       "CVCB3     0.182322\n",
       "JBSS3     0.121162\n",
       "OIBR3     0.183235\n",
       "SMAL11    0.096504\n",
       "SMLS3     0.174807\n",
       "dtype: float64"
      ]
     },
     "execution_count": 7,
     "metadata": {},
     "output_type": "execute_result"
    }
   ],
   "source": [
    "returns.std(ddof=1)"
   ]
  },
  {
   "cell_type": "code",
   "execution_count": 8,
   "metadata": {},
   "outputs": [
    {
     "data": {
      "text/plain": [
       "BOVA11    0.007227\n",
       "ABEV3    -0.011191\n",
       "AZUL4     0.009246\n",
       "BBAS3     0.005212\n",
       "CVCB3    -0.014058\n",
       "JBSS3     0.032394\n",
       "OIBR3    -0.021281\n",
       "SMAL11    0.013859\n",
       "SMLS3    -0.032844\n",
       "dtype: float64"
      ]
     },
     "execution_count": 8,
     "metadata": {},
     "output_type": "execute_result"
    }
   ],
   "source": [
    "returns.mean()"
   ]
  },
  {
   "cell_type": "code",
   "execution_count": 9,
   "metadata": {},
   "outputs": [
    {
     "data": {
      "text/plain": [
       "BOVA11    0.110366\n",
       "ABEV3    -0.359909\n",
       "AZUL4    -0.318519\n",
       "BBAS3    -0.112903\n",
       "CVCB3    -0.620715\n",
       "JBSS3     1.084577\n",
       "OIBR3    -0.687732\n",
       "SMAL11    0.280166\n",
       "SMLS3    -0.785271\n",
       "dtype: float64"
      ]
     },
     "execution_count": 9,
     "metadata": {},
     "output_type": "execute_result"
    }
   ],
   "source": [
    "((returns+1).prod()-1)"
   ]
  },
  {
   "cell_type": "markdown",
   "metadata": {},
   "source": [
    "### Measures of Risk and Reward"
   ]
  },
  {
   "cell_type": "code",
   "execution_count": 10,
   "metadata": {},
   "outputs": [
    {
     "data": {
      "text/plain": [
       "BOVA11    0.079761\n",
       "ABEV3     0.089111\n",
       "AZUL4     0.190850\n",
       "BBAS3     0.134193\n",
       "CVCB3     0.179151\n",
       "JBSS3     0.119055\n",
       "OIBR3     0.180048\n",
       "SMAL11    0.094826\n",
       "SMLS3     0.171767\n",
       "dtype: float64"
      ]
     },
     "execution_count": 10,
     "metadata": {},
     "output_type": "execute_result"
    }
   ],
   "source": [
    "deviations = returns - returns.mean()\n",
    "squared_deviations = deviations**2\n",
    "variance = squared_deviations.mean()\n",
    "volatility = np.sqrt(variance)\n",
    "volatility"
   ]
  },
  {
   "cell_type": "code",
   "execution_count": 11,
   "metadata": {},
   "outputs": [
    {
     "data": {
      "text/plain": [
       "BOVA11    0.081173\n",
       "ABEV3     0.090688\n",
       "AZUL4     0.194228\n",
       "BBAS3     0.136568\n",
       "CVCB3     0.182322\n",
       "JBSS3     0.121162\n",
       "OIBR3     0.183235\n",
       "SMAL11    0.096504\n",
       "SMLS3     0.174807\n",
       "dtype: float64"
      ]
     },
     "execution_count": 11,
     "metadata": {},
     "output_type": "execute_result"
    }
   ],
   "source": [
    "variance = squared_deviations.sum() / (returns.shape[0] - 1)\n",
    "volatility = variance**0.5\n",
    "volatility"
   ]
  },
  {
   "cell_type": "code",
   "execution_count": 12,
   "metadata": {},
   "outputs": [
    {
     "data": {
      "text/plain": [
       "BOVA11    0.281191\n",
       "ABEV3     0.314153\n",
       "AZUL4     0.672827\n",
       "BBAS3     0.473086\n",
       "CVCB3     0.631582\n",
       "JBSS3     0.419719\n",
       "OIBR3     0.634745\n",
       "SMAL11    0.334301\n",
       "SMLS3     0.605549\n",
       "dtype: float64"
      ]
     },
     "execution_count": 12,
     "metadata": {},
     "output_type": "execute_result"
    }
   ],
   "source": [
    "returns.std()*np.sqrt(12)"
   ]
  },
  {
   "cell_type": "code",
   "execution_count": 13,
   "metadata": {},
   "outputs": [],
   "source": [
    "data = pd.read_csv(\"./data/Portfolios_Formed_on_ME_monthly_EW.csv\", index_col=0,\n",
    "    parse_dates=True, na_values=-99.99)"
   ]
  },
  {
   "cell_type": "code",
   "execution_count": 14,
   "metadata": {},
   "outputs": [
    {
     "data": {
      "text/html": [
       "<div>\n",
       "<style scoped>\n",
       "    .dataframe tbody tr th:only-of-type {\n",
       "        vertical-align: middle;\n",
       "    }\n",
       "\n",
       "    .dataframe tbody tr th {\n",
       "        vertical-align: top;\n",
       "    }\n",
       "\n",
       "    .dataframe thead th {\n",
       "        text-align: right;\n",
       "    }\n",
       "</style>\n",
       "<table border=\"1\" class=\"dataframe\">\n",
       "  <thead>\n",
       "    <tr style=\"text-align: right;\">\n",
       "      <th></th>\n",
       "      <th>&lt;= 0</th>\n",
       "      <th>Lo 30</th>\n",
       "      <th>Med 40</th>\n",
       "      <th>Hi 30</th>\n",
       "      <th>Lo 20</th>\n",
       "      <th>Qnt 2</th>\n",
       "      <th>Qnt 3</th>\n",
       "      <th>Qnt 4</th>\n",
       "      <th>Hi 20</th>\n",
       "      <th>Lo 10</th>\n",
       "      <th>Dec 2</th>\n",
       "      <th>Dec 3</th>\n",
       "      <th>Dec 4</th>\n",
       "      <th>Dec 5</th>\n",
       "      <th>Dec 6</th>\n",
       "      <th>Dec 7</th>\n",
       "      <th>Dec 8</th>\n",
       "      <th>Dec 9</th>\n",
       "      <th>Hi 10</th>\n",
       "    </tr>\n",
       "  </thead>\n",
       "  <tbody>\n",
       "    <tr>\n",
       "      <th>192607</th>\n",
       "      <td>NaN</td>\n",
       "      <td>-0.43</td>\n",
       "      <td>1.52</td>\n",
       "      <td>2.68</td>\n",
       "      <td>-0.57</td>\n",
       "      <td>0.59</td>\n",
       "      <td>1.60</td>\n",
       "      <td>1.47</td>\n",
       "      <td>3.33</td>\n",
       "      <td>-1.45</td>\n",
       "      <td>0.29</td>\n",
       "      <td>-0.15</td>\n",
       "      <td>1.33</td>\n",
       "      <td>1.24</td>\n",
       "      <td>1.98</td>\n",
       "      <td>1.55</td>\n",
       "      <td>1.38</td>\n",
       "      <td>3.38</td>\n",
       "      <td>3.29</td>\n",
       "    </tr>\n",
       "    <tr>\n",
       "      <th>192608</th>\n",
       "      <td>NaN</td>\n",
       "      <td>3.90</td>\n",
       "      <td>3.04</td>\n",
       "      <td>2.09</td>\n",
       "      <td>3.84</td>\n",
       "      <td>3.59</td>\n",
       "      <td>3.71</td>\n",
       "      <td>1.61</td>\n",
       "      <td>2.33</td>\n",
       "      <td>5.12</td>\n",
       "      <td>2.59</td>\n",
       "      <td>4.03</td>\n",
       "      <td>3.15</td>\n",
       "      <td>2.72</td>\n",
       "      <td>4.72</td>\n",
       "      <td>1.60</td>\n",
       "      <td>1.63</td>\n",
       "      <td>0.98</td>\n",
       "      <td>3.70</td>\n",
       "    </tr>\n",
       "    <tr>\n",
       "      <th>192609</th>\n",
       "      <td>NaN</td>\n",
       "      <td>-1.08</td>\n",
       "      <td>-0.54</td>\n",
       "      <td>0.16</td>\n",
       "      <td>-0.48</td>\n",
       "      <td>-1.40</td>\n",
       "      <td>0.00</td>\n",
       "      <td>-0.50</td>\n",
       "      <td>-0.09</td>\n",
       "      <td>0.93</td>\n",
       "      <td>-1.87</td>\n",
       "      <td>-2.27</td>\n",
       "      <td>-0.53</td>\n",
       "      <td>0.07</td>\n",
       "      <td>-0.07</td>\n",
       "      <td>-1.64</td>\n",
       "      <td>0.64</td>\n",
       "      <td>-0.86</td>\n",
       "      <td>0.67</td>\n",
       "    </tr>\n",
       "    <tr>\n",
       "      <th>192610</th>\n",
       "      <td>NaN</td>\n",
       "      <td>-3.32</td>\n",
       "      <td>-3.52</td>\n",
       "      <td>-3.06</td>\n",
       "      <td>-3.29</td>\n",
       "      <td>-4.10</td>\n",
       "      <td>-2.89</td>\n",
       "      <td>-3.36</td>\n",
       "      <td>-2.95</td>\n",
       "      <td>-4.84</td>\n",
       "      <td>-1.77</td>\n",
       "      <td>-3.36</td>\n",
       "      <td>-4.83</td>\n",
       "      <td>-2.98</td>\n",
       "      <td>-2.80</td>\n",
       "      <td>-3.45</td>\n",
       "      <td>-3.27</td>\n",
       "      <td>-3.47</td>\n",
       "      <td>-2.43</td>\n",
       "    </tr>\n",
       "    <tr>\n",
       "      <th>192611</th>\n",
       "      <td>NaN</td>\n",
       "      <td>-0.46</td>\n",
       "      <td>3.82</td>\n",
       "      <td>3.09</td>\n",
       "      <td>-0.55</td>\n",
       "      <td>2.18</td>\n",
       "      <td>3.41</td>\n",
       "      <td>3.39</td>\n",
       "      <td>3.16</td>\n",
       "      <td>-0.78</td>\n",
       "      <td>-0.32</td>\n",
       "      <td>-0.29</td>\n",
       "      <td>4.65</td>\n",
       "      <td>3.24</td>\n",
       "      <td>3.57</td>\n",
       "      <td>3.82</td>\n",
       "      <td>2.95</td>\n",
       "      <td>3.61</td>\n",
       "      <td>2.70</td>\n",
       "    </tr>\n",
       "    <tr>\n",
       "      <th>...</th>\n",
       "      <td>...</td>\n",
       "      <td>...</td>\n",
       "      <td>...</td>\n",
       "      <td>...</td>\n",
       "      <td>...</td>\n",
       "      <td>...</td>\n",
       "      <td>...</td>\n",
       "      <td>...</td>\n",
       "      <td>...</td>\n",
       "      <td>...</td>\n",
       "      <td>...</td>\n",
       "      <td>...</td>\n",
       "      <td>...</td>\n",
       "      <td>...</td>\n",
       "      <td>...</td>\n",
       "      <td>...</td>\n",
       "      <td>...</td>\n",
       "      <td>...</td>\n",
       "      <td>...</td>\n",
       "    </tr>\n",
       "    <tr>\n",
       "      <th>201808</th>\n",
       "      <td>NaN</td>\n",
       "      <td>3.47</td>\n",
       "      <td>4.04</td>\n",
       "      <td>2.87</td>\n",
       "      <td>3.09</td>\n",
       "      <td>5.05</td>\n",
       "      <td>3.90</td>\n",
       "      <td>3.54</td>\n",
       "      <td>2.49</td>\n",
       "      <td>2.41</td>\n",
       "      <td>5.07</td>\n",
       "      <td>5.30</td>\n",
       "      <td>4.70</td>\n",
       "      <td>3.02</td>\n",
       "      <td>5.01</td>\n",
       "      <td>3.50</td>\n",
       "      <td>3.58</td>\n",
       "      <td>2.65</td>\n",
       "      <td>2.34</td>\n",
       "    </tr>\n",
       "    <tr>\n",
       "      <th>201809</th>\n",
       "      <td>NaN</td>\n",
       "      <td>-2.24</td>\n",
       "      <td>-1.85</td>\n",
       "      <td>0.08</td>\n",
       "      <td>-2.04</td>\n",
       "      <td>-2.38</td>\n",
       "      <td>-2.48</td>\n",
       "      <td>-0.74</td>\n",
       "      <td>0.19</td>\n",
       "      <td>-1.68</td>\n",
       "      <td>-3.08</td>\n",
       "      <td>-3.22</td>\n",
       "      <td>-1.23</td>\n",
       "      <td>-2.65</td>\n",
       "      <td>-2.27</td>\n",
       "      <td>-1.31</td>\n",
       "      <td>-0.12</td>\n",
       "      <td>-0.51</td>\n",
       "      <td>0.87</td>\n",
       "    </tr>\n",
       "    <tr>\n",
       "      <th>201810</th>\n",
       "      <td>NaN</td>\n",
       "      <td>-10.76</td>\n",
       "      <td>-10.88</td>\n",
       "      <td>-7.63</td>\n",
       "      <td>-10.52</td>\n",
       "      <td>-11.74</td>\n",
       "      <td>-10.55</td>\n",
       "      <td>-9.45</td>\n",
       "      <td>-7.41</td>\n",
       "      <td>-10.02</td>\n",
       "      <td>-11.98</td>\n",
       "      <td>-11.89</td>\n",
       "      <td>-11.52</td>\n",
       "      <td>-11.58</td>\n",
       "      <td>-9.23</td>\n",
       "      <td>-10.74</td>\n",
       "      <td>-8.04</td>\n",
       "      <td>-8.28</td>\n",
       "      <td>-6.57</td>\n",
       "    </tr>\n",
       "    <tr>\n",
       "      <th>201811</th>\n",
       "      <td>NaN</td>\n",
       "      <td>-2.08</td>\n",
       "      <td>2.18</td>\n",
       "      <td>2.19</td>\n",
       "      <td>-2.78</td>\n",
       "      <td>1.69</td>\n",
       "      <td>1.46</td>\n",
       "      <td>2.62</td>\n",
       "      <td>2.49</td>\n",
       "      <td>-3.65</td>\n",
       "      <td>-0.23</td>\n",
       "      <td>1.23</td>\n",
       "      <td>2.30</td>\n",
       "      <td>1.74</td>\n",
       "      <td>1.11</td>\n",
       "      <td>3.54</td>\n",
       "      <td>1.63</td>\n",
       "      <td>2.45</td>\n",
       "      <td>2.53</td>\n",
       "    </tr>\n",
       "    <tr>\n",
       "      <th>201812</th>\n",
       "      <td>NaN</td>\n",
       "      <td>-14.28</td>\n",
       "      <td>-12.41</td>\n",
       "      <td>-9.76</td>\n",
       "      <td>-14.77</td>\n",
       "      <td>-12.44</td>\n",
       "      <td>-12.22</td>\n",
       "      <td>-11.34</td>\n",
       "      <td>-9.21</td>\n",
       "      <td>-15.31</td>\n",
       "      <td>-13.19</td>\n",
       "      <td>-11.94</td>\n",
       "      <td>-13.13</td>\n",
       "      <td>-12.73</td>\n",
       "      <td>-11.57</td>\n",
       "      <td>-11.87</td>\n",
       "      <td>-10.75</td>\n",
       "      <td>-9.54</td>\n",
       "      <td>-8.90</td>\n",
       "    </tr>\n",
       "  </tbody>\n",
       "</table>\n",
       "<p>1110 rows × 19 columns</p>\n",
       "</div>"
      ],
      "text/plain": [
       "        <= 0  Lo 30  Med 40  Hi 30  Lo 20  Qnt 2  Qnt 3  Qnt 4  Hi 20  Lo 10  \\\n",
       "192607   NaN  -0.43    1.52   2.68  -0.57   0.59   1.60   1.47   3.33  -1.45   \n",
       "192608   NaN   3.90    3.04   2.09   3.84   3.59   3.71   1.61   2.33   5.12   \n",
       "192609   NaN  -1.08   -0.54   0.16  -0.48  -1.40   0.00  -0.50  -0.09   0.93   \n",
       "192610   NaN  -3.32   -3.52  -3.06  -3.29  -4.10  -2.89  -3.36  -2.95  -4.84   \n",
       "192611   NaN  -0.46    3.82   3.09  -0.55   2.18   3.41   3.39   3.16  -0.78   \n",
       "...      ...    ...     ...    ...    ...    ...    ...    ...    ...    ...   \n",
       "201808   NaN   3.47    4.04   2.87   3.09   5.05   3.90   3.54   2.49   2.41   \n",
       "201809   NaN  -2.24   -1.85   0.08  -2.04  -2.38  -2.48  -0.74   0.19  -1.68   \n",
       "201810   NaN -10.76  -10.88  -7.63 -10.52 -11.74 -10.55  -9.45  -7.41 -10.02   \n",
       "201811   NaN  -2.08    2.18   2.19  -2.78   1.69   1.46   2.62   2.49  -3.65   \n",
       "201812   NaN -14.28  -12.41  -9.76 -14.77 -12.44 -12.22 -11.34  -9.21 -15.31   \n",
       "\n",
       "        Dec 2  Dec 3  Dec 4  Dec 5  Dec 6  Dec 7  Dec 8  Dec 9  Hi 10  \n",
       "192607   0.29  -0.15   1.33   1.24   1.98   1.55   1.38   3.38   3.29  \n",
       "192608   2.59   4.03   3.15   2.72   4.72   1.60   1.63   0.98   3.70  \n",
       "192609  -1.87  -2.27  -0.53   0.07  -0.07  -1.64   0.64  -0.86   0.67  \n",
       "192610  -1.77  -3.36  -4.83  -2.98  -2.80  -3.45  -3.27  -3.47  -2.43  \n",
       "192611  -0.32  -0.29   4.65   3.24   3.57   3.82   2.95   3.61   2.70  \n",
       "...       ...    ...    ...    ...    ...    ...    ...    ...    ...  \n",
       "201808   5.07   5.30   4.70   3.02   5.01   3.50   3.58   2.65   2.34  \n",
       "201809  -3.08  -3.22  -1.23  -2.65  -2.27  -1.31  -0.12  -0.51   0.87  \n",
       "201810 -11.98 -11.89 -11.52 -11.58  -9.23 -10.74  -8.04  -8.28  -6.57  \n",
       "201811  -0.23   1.23   2.30   1.74   1.11   3.54   1.63   2.45   2.53  \n",
       "201812 -13.19 -11.94 -13.13 -12.73 -11.57 -11.87 -10.75  -9.54  -8.90  \n",
       "\n",
       "[1110 rows x 19 columns]"
      ]
     },
     "execution_count": 14,
     "metadata": {},
     "output_type": "execute_result"
    }
   ],
   "source": [
    "data"
   ]
  },
  {
   "cell_type": "code",
   "execution_count": 15,
   "metadata": {},
   "outputs": [
    {
     "data": {
      "text/html": [
       "<div>\n",
       "<style scoped>\n",
       "    .dataframe tbody tr th:only-of-type {\n",
       "        vertical-align: middle;\n",
       "    }\n",
       "\n",
       "    .dataframe tbody tr th {\n",
       "        vertical-align: top;\n",
       "    }\n",
       "\n",
       "    .dataframe thead th {\n",
       "        text-align: right;\n",
       "    }\n",
       "</style>\n",
       "<table border=\"1\" class=\"dataframe\">\n",
       "  <thead>\n",
       "    <tr style=\"text-align: right;\">\n",
       "      <th></th>\n",
       "      <th>Lo 10</th>\n",
       "      <th>Hi 10</th>\n",
       "    </tr>\n",
       "  </thead>\n",
       "  <tbody>\n",
       "    <tr>\n",
       "      <th>192607</th>\n",
       "      <td>-1.45</td>\n",
       "      <td>3.29</td>\n",
       "    </tr>\n",
       "    <tr>\n",
       "      <th>192608</th>\n",
       "      <td>5.12</td>\n",
       "      <td>3.70</td>\n",
       "    </tr>\n",
       "    <tr>\n",
       "      <th>192609</th>\n",
       "      <td>0.93</td>\n",
       "      <td>0.67</td>\n",
       "    </tr>\n",
       "    <tr>\n",
       "      <th>192610</th>\n",
       "      <td>-4.84</td>\n",
       "      <td>-2.43</td>\n",
       "    </tr>\n",
       "    <tr>\n",
       "      <th>192611</th>\n",
       "      <td>-0.78</td>\n",
       "      <td>2.70</td>\n",
       "    </tr>\n",
       "  </tbody>\n",
       "</table>\n",
       "</div>"
      ],
      "text/plain": [
       "        Lo 10  Hi 10\n",
       "192607  -1.45   3.29\n",
       "192608   5.12   3.70\n",
       "192609   0.93   0.67\n",
       "192610  -4.84  -2.43\n",
       "192611  -0.78   2.70"
      ]
     },
     "execution_count": 15,
     "metadata": {},
     "output_type": "execute_result"
    }
   ],
   "source": [
    "columns = [\"Lo 10\", \"Hi 10\"]\n",
    "portf = data[columns]\n",
    "portf.head()"
   ]
  },
  {
   "cell_type": "code",
   "execution_count": 16,
   "metadata": {},
   "outputs": [],
   "source": [
    "portf = portf/100"
   ]
  },
  {
   "cell_type": "code",
   "execution_count": 17,
   "metadata": {},
   "outputs": [
    {
     "data": {
      "text/html": [
       "<div>\n",
       "<style scoped>\n",
       "    .dataframe tbody tr th:only-of-type {\n",
       "        vertical-align: middle;\n",
       "    }\n",
       "\n",
       "    .dataframe tbody tr th {\n",
       "        vertical-align: top;\n",
       "    }\n",
       "\n",
       "    .dataframe thead th {\n",
       "        text-align: right;\n",
       "    }\n",
       "</style>\n",
       "<table border=\"1\" class=\"dataframe\">\n",
       "  <thead>\n",
       "    <tr style=\"text-align: right;\">\n",
       "      <th></th>\n",
       "      <th>Lo 10</th>\n",
       "      <th>Hi 10</th>\n",
       "    </tr>\n",
       "  </thead>\n",
       "  <tbody>\n",
       "    <tr>\n",
       "      <th>192607</th>\n",
       "      <td>-0.0145</td>\n",
       "      <td>0.0329</td>\n",
       "    </tr>\n",
       "    <tr>\n",
       "      <th>192608</th>\n",
       "      <td>0.0512</td>\n",
       "      <td>0.0370</td>\n",
       "    </tr>\n",
       "    <tr>\n",
       "      <th>192609</th>\n",
       "      <td>0.0093</td>\n",
       "      <td>0.0067</td>\n",
       "    </tr>\n",
       "    <tr>\n",
       "      <th>192610</th>\n",
       "      <td>-0.0484</td>\n",
       "      <td>-0.0243</td>\n",
       "    </tr>\n",
       "    <tr>\n",
       "      <th>192611</th>\n",
       "      <td>-0.0078</td>\n",
       "      <td>0.0270</td>\n",
       "    </tr>\n",
       "  </tbody>\n",
       "</table>\n",
       "</div>"
      ],
      "text/plain": [
       "         Lo 10   Hi 10\n",
       "192607 -0.0145  0.0329\n",
       "192608  0.0512  0.0370\n",
       "192609  0.0093  0.0067\n",
       "192610 -0.0484 -0.0243\n",
       "192611 -0.0078  0.0270"
      ]
     },
     "execution_count": 17,
     "metadata": {},
     "output_type": "execute_result"
    }
   ],
   "source": [
    "portf.head()"
   ]
  },
  {
   "cell_type": "code",
   "execution_count": 18,
   "metadata": {},
   "outputs": [
    {
     "data": {
      "text/html": [
       "<div>\n",
       "<style scoped>\n",
       "    .dataframe tbody tr th:only-of-type {\n",
       "        vertical-align: middle;\n",
       "    }\n",
       "\n",
       "    .dataframe tbody tr th {\n",
       "        vertical-align: top;\n",
       "    }\n",
       "\n",
       "    .dataframe thead th {\n",
       "        text-align: right;\n",
       "    }\n",
       "</style>\n",
       "<table border=\"1\" class=\"dataframe\">\n",
       "  <thead>\n",
       "    <tr style=\"text-align: right;\">\n",
       "      <th></th>\n",
       "      <th>SmallCap</th>\n",
       "      <th>LargeCap</th>\n",
       "    </tr>\n",
       "  </thead>\n",
       "  <tbody>\n",
       "    <tr>\n",
       "      <th>192607</th>\n",
       "      <td>-0.0145</td>\n",
       "      <td>0.0329</td>\n",
       "    </tr>\n",
       "    <tr>\n",
       "      <th>192608</th>\n",
       "      <td>0.0512</td>\n",
       "      <td>0.0370</td>\n",
       "    </tr>\n",
       "    <tr>\n",
       "      <th>192609</th>\n",
       "      <td>0.0093</td>\n",
       "      <td>0.0067</td>\n",
       "    </tr>\n",
       "    <tr>\n",
       "      <th>192610</th>\n",
       "      <td>-0.0484</td>\n",
       "      <td>-0.0243</td>\n",
       "    </tr>\n",
       "    <tr>\n",
       "      <th>192611</th>\n",
       "      <td>-0.0078</td>\n",
       "      <td>0.0270</td>\n",
       "    </tr>\n",
       "  </tbody>\n",
       "</table>\n",
       "</div>"
      ],
      "text/plain": [
       "        SmallCap  LargeCap\n",
       "192607   -0.0145    0.0329\n",
       "192608    0.0512    0.0370\n",
       "192609    0.0093    0.0067\n",
       "192610   -0.0484   -0.0243\n",
       "192611   -0.0078    0.0270"
      ]
     },
     "execution_count": 18,
     "metadata": {},
     "output_type": "execute_result"
    }
   ],
   "source": [
    "portf.columns = [\"SmallCap\", \"LargeCap\"]\n",
    "portf.head()"
   ]
  },
  {
   "cell_type": "code",
   "execution_count": 19,
   "metadata": {},
   "outputs": [
    {
     "data": {
      "text/plain": [
       "<matplotlib.axes._subplots.AxesSubplot at 0x7f4cacb748b0>"
      ]
     },
     "execution_count": 19,
     "metadata": {},
     "output_type": "execute_result"
    },
    {
     "data": {
      "image/png": "[encoded data removed]",
      "text/plain": [
       "<Figure size 432x288 with 1 Axes>"
      ]
     },
     "metadata": {
      "needs_background": "light"
     },
     "output_type": "display_data"
    }
   ],
   "source": [
    "portf.plot.line()"
   ]
  },
  {
   "cell_type": "code",
   "execution_count": 20,
   "metadata": {},
   "outputs": [
    {
     "data": {
      "text/plain": [
       "SmallCap    0.106288\n",
       "LargeCap    0.053900\n",
       "dtype: float64"
      ]
     },
     "execution_count": 20,
     "metadata": {},
     "output_type": "execute_result"
    }
   ],
   "source": [
    "portf.std()"
   ]
  },
  {
   "cell_type": "code",
   "execution_count": 21,
   "metadata": {},
   "outputs": [
    {
     "data": {
      "text/plain": [
       "BOVA11    0.281191\n",
       "ABEV3     0.314153\n",
       "AZUL4     0.672827\n",
       "BBAS3     0.473086\n",
       "CVCB3     0.631582\n",
       "JBSS3     0.419719\n",
       "OIBR3     0.634745\n",
       "SMAL11    0.334301\n",
       "SMLS3     0.605549\n",
       "dtype: float64"
      ]
     },
     "execution_count": 21,
     "metadata": {},
     "output_type": "execute_result"
    }
   ],
   "source": [
    "annualized_vol = returns.std()*np.sqrt(12)\n",
    "annualized_vol"
   ]
  },
  {
   "cell_type": "code",
   "execution_count": 22,
   "metadata": {},
   "outputs": [
    {
     "data": {
      "text/plain": [
       "BOVA11    0.003617\n",
       "ABEV3    -0.015267\n",
       "AZUL4    -0.013137\n",
       "BBAS3    -0.004123\n",
       "CVCB3    -0.032877\n",
       "JBSS3     0.025653\n",
       "OIBR3    -0.039340\n",
       "SMAL11    0.008553\n",
       "SMLS3    -0.051665\n",
       "dtype: float64"
      ]
     },
     "execution_count": 22,
     "metadata": {},
     "output_type": "execute_result"
    }
   ],
   "source": [
    "n_months=len(returns)\n",
    "returns_per_month = (returns+1).prod()**(1/n_months) -1\n",
    "returns_per_month"
   ]
  },
  {
   "cell_type": "code",
   "execution_count": 23,
   "metadata": {},
   "outputs": [
    {
     "data": {
      "text/plain": [
       "BOVA11    0.044272\n",
       "ABEV3    -0.168573\n",
       "AZUL4    -0.146734\n",
       "BBAS3    -0.048364\n",
       "CVCB3    -0.330456\n",
       "JBSS3     0.355213\n",
       "OIBR3    -0.382213\n",
       "SMAL11    0.107608\n",
       "SMLS3    -0.470896\n",
       "dtype: float64"
      ]
     },
     "execution_count": 23,
     "metadata": {},
     "output_type": "execute_result"
    }
   ],
   "source": [
    "annualized_return = (returns_per_month + 1)**12 - 1\n",
    "annualized_return"
   ]
  },
  {
   "cell_type": "code",
   "execution_count": 24,
   "metadata": {},
   "outputs": [],
   "source": [
    "return_risk_ratio = annualized_return/annualized_vol"
   ]
  },
  {
   "cell_type": "code",
   "execution_count": 25,
   "metadata": {},
   "outputs": [],
   "source": [
    "riskfree_rate = 0.03"
   ]
  },
  {
   "cell_type": "code",
   "execution_count": 26,
   "metadata": {},
   "outputs": [
    {
     "data": {
      "text/plain": [
       "BOVA11    0.050755\n",
       "ABEV3    -0.632090\n",
       "AZUL4    -0.262674\n",
       "BBAS3    -0.165645\n",
       "CVCB3    -0.570719\n",
       "JBSS3     0.774834\n",
       "OIBR3    -0.649415\n",
       "SMAL11    0.232150\n",
       "SMLS3    -0.827176\n",
       "dtype: float64"
      ]
     },
     "execution_count": 26,
     "metadata": {},
     "output_type": "execute_result"
    }
   ],
   "source": [
    "excess_return = (annualized_return - riskfree_rate)\n",
    "sharpe_ratio = excess_return / annualized_vol\n",
    "sharpe_ratio"
   ]
  },
  {
   "cell_type": "markdown",
   "metadata": {},
   "source": [
    "### Measuring Max Drawdown"
   ]
  },
  {
   "cell_type": "code",
   "execution_count": 27,
   "metadata": {},
   "outputs": [
    {
     "data": {
      "text/plain": [
       "<matplotlib.axes._subplots.AxesSubplot at 0x7f4ca893b8e0>"
      ]
     },
     "execution_count": 27,
     "metadata": {},
     "output_type": "execute_result"
    },
    {
     "data": {
      "image/png": "[encoded data removed]",
      "text/plain": [
       "<Figure size 432x288 with 1 Axes>"
      ]
     },
     "metadata": {
      "needs_background": "light"
     },
     "output_type": "display_data"
    }
   ],
   "source": [
    "returns.plot.line()"
   ]
  },
  {
   "cell_type": "code",
   "execution_count": 28,
   "metadata": {},
   "outputs": [
    {
     "data": {
      "text/html": [
       "<div>\n",
       "<style scoped>\n",
       "    .dataframe tbody tr th:only-of-type {\n",
       "        vertical-align: middle;\n",
       "    }\n",
       "\n",
       "    .dataframe tbody tr th {\n",
       "        vertical-align: top;\n",
       "    }\n",
       "\n",
       "    .dataframe thead th {\n",
       "        text-align: right;\n",
       "    }\n",
       "</style>\n",
       "<table border=\"1\" class=\"dataframe\">\n",
       "  <thead>\n",
       "    <tr style=\"text-align: right;\">\n",
       "      <th></th>\n",
       "      <th>BOVA11</th>\n",
       "      <th>ABEV3</th>\n",
       "      <th>AZUL4</th>\n",
       "      <th>BBAS3</th>\n",
       "      <th>CVCB3</th>\n",
       "      <th>JBSS3</th>\n",
       "      <th>OIBR3</th>\n",
       "      <th>SMAL11</th>\n",
       "      <th>SMLS3</th>\n",
       "    </tr>\n",
       "    <tr>\n",
       "      <th>date</th>\n",
       "      <th></th>\n",
       "      <th></th>\n",
       "      <th></th>\n",
       "      <th></th>\n",
       "      <th></th>\n",
       "      <th></th>\n",
       "      <th></th>\n",
       "      <th></th>\n",
       "      <th></th>\n",
       "    </tr>\n",
       "  </thead>\n",
       "  <tbody>\n",
       "    <tr>\n",
       "      <th>2018-02-28</th>\n",
       "      <td>0.006098</td>\n",
       "      <td>0.002278</td>\n",
       "      <td>0.083092</td>\n",
       "      <td>0.053427</td>\n",
       "      <td>0.018320</td>\n",
       "      <td>-0.013930</td>\n",
       "      <td>0.122677</td>\n",
       "      <td>-0.006532</td>\n",
       "      <td>0.025928</td>\n",
       "    </tr>\n",
       "    <tr>\n",
       "      <th>2018-03-31</th>\n",
       "      <td>-0.000848</td>\n",
       "      <td>0.094091</td>\n",
       "      <td>0.135891</td>\n",
       "      <td>-0.018421</td>\n",
       "      <td>0.080335</td>\n",
       "      <td>-0.056509</td>\n",
       "      <td>-0.026490</td>\n",
       "      <td>0.001195</td>\n",
       "      <td>-0.175368</td>\n",
       "    </tr>\n",
       "    <tr>\n",
       "      <th>2018-04-30</th>\n",
       "      <td>0.009099</td>\n",
       "      <td>-0.030744</td>\n",
       "      <td>-0.047120</td>\n",
       "      <td>-0.105533</td>\n",
       "      <td>-0.043858</td>\n",
       "      <td>-0.064171</td>\n",
       "      <td>-0.017007</td>\n",
       "      <td>0.021731</td>\n",
       "      <td>0.035971</td>\n",
       "    </tr>\n",
       "    <tr>\n",
       "      <th>2018-05-31</th>\n",
       "      <td>-0.109522</td>\n",
       "      <td>-0.156022</td>\n",
       "      <td>-0.271703</td>\n",
       "      <td>-0.172480</td>\n",
       "      <td>-0.120538</td>\n",
       "      <td>0.020571</td>\n",
       "      <td>-0.089965</td>\n",
       "      <td>-0.111838</td>\n",
       "      <td>-0.190694</td>\n",
       "    </tr>\n",
       "    <tr>\n",
       "      <th>2018-06-30</th>\n",
       "      <td>-0.050223</td>\n",
       "      <td>-0.086846</td>\n",
       "      <td>-0.195398</td>\n",
       "      <td>-0.056635</td>\n",
       "      <td>-0.113725</td>\n",
       "      <td>0.041433</td>\n",
       "      <td>-0.007605</td>\n",
       "      <td>-0.036842</td>\n",
       "      <td>-0.107603</td>\n",
       "    </tr>\n",
       "  </tbody>\n",
       "</table>\n",
       "</div>"
      ],
      "text/plain": [
       "              BOVA11     ABEV3     AZUL4     BBAS3     CVCB3     JBSS3  \\\n",
       "date                                                                     \n",
       "2018-02-28  0.006098  0.002278  0.083092  0.053427  0.018320 -0.013930   \n",
       "2018-03-31 -0.000848  0.094091  0.135891 -0.018421  0.080335 -0.056509   \n",
       "2018-04-30  0.009099 -0.030744 -0.047120 -0.105533 -0.043858 -0.064171   \n",
       "2018-05-31 -0.109522 -0.156022 -0.271703 -0.172480 -0.120538  0.020571   \n",
       "2018-06-30 -0.050223 -0.086846 -0.195398 -0.056635 -0.113725  0.041433   \n",
       "\n",
       "               OIBR3    SMAL11     SMLS3  \n",
       "date                                      \n",
       "2018-02-28  0.122677 -0.006532  0.025928  \n",
       "2018-03-31 -0.026490  0.001195 -0.175368  \n",
       "2018-04-30 -0.017007  0.021731  0.035971  \n",
       "2018-05-31 -0.089965 -0.111838 -0.190694  \n",
       "2018-06-30 -0.007605 -0.036842 -0.107603  "
      ]
     },
     "execution_count": 28,
     "metadata": {},
     "output_type": "execute_result"
    }
   ],
   "source": [
    "#returns.index = returns.index.to_period('M')\n",
    "returns.head()"
   ]
  },
  {
   "cell_type": "markdown",
   "metadata": {},
   "source": [
    "<b> Compute drawdowns </b>:\n",
    "- compute a wealth index;\n",
    "- compute previous peaks;\n",
    "- compute drawndown - wich is the wealth value as a percentage of the previous peak"
   ]
  },
  {
   "cell_type": "code",
   "execution_count": 29,
   "metadata": {},
   "outputs": [],
   "source": [
    "wealth_index = 1000*(1+returns).cumprod()"
   ]
  },
  {
   "cell_type": "code",
   "execution_count": 30,
   "metadata": {},
   "outputs": [
    {
     "data": {
      "text/html": [
       "<div>\n",
       "<style scoped>\n",
       "    .dataframe tbody tr th:only-of-type {\n",
       "        vertical-align: middle;\n",
       "    }\n",
       "\n",
       "    .dataframe tbody tr th {\n",
       "        vertical-align: top;\n",
       "    }\n",
       "\n",
       "    .dataframe thead th {\n",
       "        text-align: right;\n",
       "    }\n",
       "</style>\n",
       "<table border=\"1\" class=\"dataframe\">\n",
       "  <thead>\n",
       "    <tr style=\"text-align: right;\">\n",
       "      <th></th>\n",
       "      <th>BOVA11</th>\n",
       "      <th>ABEV3</th>\n",
       "      <th>AZUL4</th>\n",
       "      <th>BBAS3</th>\n",
       "      <th>CVCB3</th>\n",
       "      <th>JBSS3</th>\n",
       "      <th>OIBR3</th>\n",
       "      <th>SMAL11</th>\n",
       "      <th>SMLS3</th>\n",
       "    </tr>\n",
       "    <tr>\n",
       "      <th>date</th>\n",
       "      <th></th>\n",
       "      <th></th>\n",
       "      <th></th>\n",
       "      <th></th>\n",
       "      <th></th>\n",
       "      <th></th>\n",
       "      <th></th>\n",
       "      <th></th>\n",
       "      <th></th>\n",
       "    </tr>\n",
       "  </thead>\n",
       "  <tbody>\n",
       "    <tr>\n",
       "      <th>2018-02-28</th>\n",
       "      <td>1006.097561</td>\n",
       "      <td>1002.277904</td>\n",
       "      <td>1083.091787</td>\n",
       "      <td>1053.427419</td>\n",
       "      <td>1018.320334</td>\n",
       "      <td>986.069652</td>\n",
       "      <td>1122.676580</td>\n",
       "      <td>993.467933</td>\n",
       "      <td>1025.928180</td>\n",
       "    </tr>\n",
       "    <tr>\n",
       "      <th>2018-03-31</th>\n",
       "      <td>1005.243902</td>\n",
       "      <td>1096.583144</td>\n",
       "      <td>1230.273752</td>\n",
       "      <td>1034.022177</td>\n",
       "      <td>1100.126973</td>\n",
       "      <td>930.348259</td>\n",
       "      <td>1092.936803</td>\n",
       "      <td>994.655582</td>\n",
       "      <td>846.013390</td>\n",
       "    </tr>\n",
       "    <tr>\n",
       "      <th>2018-04-30</th>\n",
       "      <td>1014.390244</td>\n",
       "      <td>1062.870159</td>\n",
       "      <td>1172.302738</td>\n",
       "      <td>924.899194</td>\n",
       "      <td>1051.877381</td>\n",
       "      <td>870.646766</td>\n",
       "      <td>1074.349442</td>\n",
       "      <td>1016.270784</td>\n",
       "      <td>876.445526</td>\n",
       "    </tr>\n",
       "    <tr>\n",
       "      <th>2018-05-31</th>\n",
       "      <td>903.292683</td>\n",
       "      <td>897.038724</td>\n",
       "      <td>853.784219</td>\n",
       "      <td>765.372984</td>\n",
       "      <td>925.086160</td>\n",
       "      <td>888.557214</td>\n",
       "      <td>977.695167</td>\n",
       "      <td>902.612827</td>\n",
       "      <td>709.312234</td>\n",
       "    </tr>\n",
       "    <tr>\n",
       "      <th>2018-06-30</th>\n",
       "      <td>857.926829</td>\n",
       "      <td>819.134396</td>\n",
       "      <td>686.956522</td>\n",
       "      <td>722.026210</td>\n",
       "      <td>819.880283</td>\n",
       "      <td>925.373134</td>\n",
       "      <td>970.260223</td>\n",
       "      <td>869.358670</td>\n",
       "      <td>632.988436</td>\n",
       "    </tr>\n",
       "  </tbody>\n",
       "</table>\n",
       "</div>"
      ],
      "text/plain": [
       "                 BOVA11        ABEV3        AZUL4        BBAS3        CVCB3  \\\n",
       "date                                                                          \n",
       "2018-02-28  1006.097561  1002.277904  1083.091787  1053.427419  1018.320334   \n",
       "2018-03-31  1005.243902  1096.583144  1230.273752  1034.022177  1100.126973   \n",
       "2018-04-30  1014.390244  1062.870159  1172.302738   924.899194  1051.877381   \n",
       "2018-05-31   903.292683   897.038724   853.784219   765.372984   925.086160   \n",
       "2018-06-30   857.926829   819.134396   686.956522   722.026210   819.880283   \n",
       "\n",
       "                 JBSS3        OIBR3       SMAL11        SMLS3  \n",
       "date                                                           \n",
       "2018-02-28  986.069652  1122.676580   993.467933  1025.928180  \n",
       "2018-03-31  930.348259  1092.936803   994.655582   846.013390  \n",
       "2018-04-30  870.646766  1074.349442  1016.270784   876.445526  \n",
       "2018-05-31  888.557214   977.695167   902.612827   709.312234  \n",
       "2018-06-30  925.373134   970.260223   869.358670   632.988436  "
      ]
     },
     "execution_count": 30,
     "metadata": {},
     "output_type": "execute_result"
    }
   ],
   "source": [
    "wealth_index.head()"
   ]
  },
  {
   "cell_type": "code",
   "execution_count": 31,
   "metadata": {},
   "outputs": [
    {
     "data": {
      "text/plain": [
       "<matplotlib.axes._subplots.AxesSubplot at 0x7f4ca887f1f0>"
      ]
     },
     "execution_count": 31,
     "metadata": {},
     "output_type": "execute_result"
    },
    {
     "data": {
      "image/png": "[encoded data removed]",
      "text/plain": [
       "<Figure size 432x288 with 1 Axes>"
      ]
     },
     "metadata": {
      "needs_background": "light"
     },
     "output_type": "display_data"
    }
   ],
   "source": [
    "wealth_index.plot.line()"
   ]
  },
  {
   "cell_type": "code",
   "execution_count": 32,
   "metadata": {},
   "outputs": [],
   "source": [
    "previous_peaks = wealth_index.cummax()"
   ]
  },
  {
   "cell_type": "code",
   "execution_count": 33,
   "metadata": {},
   "outputs": [
    {
     "data": {
      "text/plain": [
       "<matplotlib.axes._subplots.AxesSubplot at 0x7f4ca2f63a60>"
      ]
     },
     "execution_count": 33,
     "metadata": {},
     "output_type": "execute_result"
    },
    {
     "data": {
      "image/png": "[encoded data removed]",
      "text/plain": [
       "<Figure size 432x288 with 1 Axes>"
      ]
     },
     "metadata": {
      "needs_background": "light"
     },
     "output_type": "display_data"
    }
   ],
   "source": [
    "previous_peaks.plot.line()"
   ]
  },
  {
   "cell_type": "code",
   "execution_count": 34,
   "metadata": {},
   "outputs": [],
   "source": [
    "drawdown = (wealth_index - previous_peaks) / previous_peaks"
   ]
  },
  {
   "cell_type": "code",
   "execution_count": 35,
   "metadata": {},
   "outputs": [
    {
     "data": {
      "text/html": [
       "<div>\n",
       "<style scoped>\n",
       "    .dataframe tbody tr th:only-of-type {\n",
       "        vertical-align: middle;\n",
       "    }\n",
       "\n",
       "    .dataframe tbody tr th {\n",
       "        vertical-align: top;\n",
       "    }\n",
       "\n",
       "    .dataframe thead th {\n",
       "        text-align: right;\n",
       "    }\n",
       "</style>\n",
       "<table border=\"1\" class=\"dataframe\">\n",
       "  <thead>\n",
       "    <tr style=\"text-align: right;\">\n",
       "      <th></th>\n",
       "      <th>BOVA11</th>\n",
       "      <th>ABEV3</th>\n",
       "      <th>AZUL4</th>\n",
       "      <th>BBAS3</th>\n",
       "      <th>CVCB3</th>\n",
       "      <th>JBSS3</th>\n",
       "      <th>OIBR3</th>\n",
       "      <th>SMAL11</th>\n",
       "      <th>SMLS3</th>\n",
       "    </tr>\n",
       "    <tr>\n",
       "      <th>date</th>\n",
       "      <th></th>\n",
       "      <th></th>\n",
       "      <th></th>\n",
       "      <th></th>\n",
       "      <th></th>\n",
       "      <th></th>\n",
       "      <th></th>\n",
       "      <th></th>\n",
       "      <th></th>\n",
       "    </tr>\n",
       "  </thead>\n",
       "  <tbody>\n",
       "    <tr>\n",
       "      <th>2018-02-28</th>\n",
       "      <td>0.000000</td>\n",
       "      <td>0.000000</td>\n",
       "      <td>0.000000</td>\n",
       "      <td>0.000000</td>\n",
       "      <td>0.000000</td>\n",
       "      <td>0.000000</td>\n",
       "      <td>0.000000</td>\n",
       "      <td>0.000000</td>\n",
       "      <td>0.000000</td>\n",
       "    </tr>\n",
       "    <tr>\n",
       "      <th>2018-03-31</th>\n",
       "      <td>-0.000848</td>\n",
       "      <td>0.000000</td>\n",
       "      <td>0.000000</td>\n",
       "      <td>-0.018421</td>\n",
       "      <td>0.000000</td>\n",
       "      <td>-0.056509</td>\n",
       "      <td>-0.026490</td>\n",
       "      <td>0.000000</td>\n",
       "      <td>-0.175368</td>\n",
       "    </tr>\n",
       "    <tr>\n",
       "      <th>2018-04-30</th>\n",
       "      <td>0.000000</td>\n",
       "      <td>-0.030744</td>\n",
       "      <td>-0.047120</td>\n",
       "      <td>-0.122010</td>\n",
       "      <td>-0.043858</td>\n",
       "      <td>-0.117053</td>\n",
       "      <td>-0.043046</td>\n",
       "      <td>0.000000</td>\n",
       "      <td>-0.145705</td>\n",
       "    </tr>\n",
       "    <tr>\n",
       "      <th>2018-05-31</th>\n",
       "      <td>-0.109522</td>\n",
       "      <td>-0.181969</td>\n",
       "      <td>-0.306021</td>\n",
       "      <td>-0.273445</td>\n",
       "      <td>-0.159110</td>\n",
       "      <td>-0.098890</td>\n",
       "      <td>-0.129139</td>\n",
       "      <td>-0.111838</td>\n",
       "      <td>-0.308614</td>\n",
       "    </tr>\n",
       "    <tr>\n",
       "      <th>2018-06-30</th>\n",
       "      <td>-0.154244</td>\n",
       "      <td>-0.253012</td>\n",
       "      <td>-0.441623</td>\n",
       "      <td>-0.314593</td>\n",
       "      <td>-0.254740</td>\n",
       "      <td>-0.061554</td>\n",
       "      <td>-0.135762</td>\n",
       "      <td>-0.144560</td>\n",
       "      <td>-0.383009</td>\n",
       "    </tr>\n",
       "  </tbody>\n",
       "</table>\n",
       "</div>"
      ],
      "text/plain": [
       "              BOVA11     ABEV3     AZUL4     BBAS3     CVCB3     JBSS3  \\\n",
       "date                                                                     \n",
       "2018-02-28  0.000000  0.000000  0.000000  0.000000  0.000000  0.000000   \n",
       "2018-03-31 -0.000848  0.000000  0.000000 -0.018421  0.000000 -0.056509   \n",
       "2018-04-30  0.000000 -0.030744 -0.047120 -0.122010 -0.043858 -0.117053   \n",
       "2018-05-31 -0.109522 -0.181969 -0.306021 -0.273445 -0.159110 -0.098890   \n",
       "2018-06-30 -0.154244 -0.253012 -0.441623 -0.314593 -0.254740 -0.061554   \n",
       "\n",
       "               OIBR3    SMAL11     SMLS3  \n",
       "date                                      \n",
       "2018-02-28  0.000000  0.000000  0.000000  \n",
       "2018-03-31 -0.026490  0.000000 -0.175368  \n",
       "2018-04-30 -0.043046  0.000000 -0.145705  \n",
       "2018-05-31 -0.129139 -0.111838 -0.308614  \n",
       "2018-06-30 -0.135762 -0.144560 -0.383009  "
      ]
     },
     "execution_count": 35,
     "metadata": {},
     "output_type": "execute_result"
    }
   ],
   "source": [
    "drawdown.head()"
   ]
  },
  {
   "cell_type": "code",
   "execution_count": 36,
   "metadata": {},
   "outputs": [
    {
     "data": {
      "text/plain": [
       "<matplotlib.axes._subplots.AxesSubplot at 0x7f4ca2efb4c0>"
      ]
     },
     "execution_count": 36,
     "metadata": {},
     "output_type": "execute_result"
    },
    {
     "data": {
      "image/png": "[encoded data removed]",
      "text/plain": [
       "<Figure size 432x288 with 1 Axes>"
      ]
     },
     "metadata": {
      "needs_background": "light"
     },
     "output_type": "display_data"
    }
   ],
   "source": [
    "drawdown.plot.line()"
   ]
  },
  {
   "cell_type": "code",
   "execution_count": 37,
   "metadata": {},
   "outputs": [
    {
     "data": {
      "text/plain": [
       "BOVA11   -0.063583\n",
       "ABEV3    -0.263298\n",
       "AZUL4    -0.193998\n",
       "BBAS3    -0.146334\n",
       "CVCB3    -0.263126\n",
       "JBSS3    -0.102603\n",
       "OIBR3    -0.482530\n",
       "SMAL11   -0.072435\n",
       "SMLS3    -0.491637\n",
       "dtype: float64"
      ]
     },
     "execution_count": 37,
     "metadata": {},
     "output_type": "execute_result"
    }
   ],
   "source": [
    "drawdown.mean()"
   ]
  },
  {
   "cell_type": "code",
   "execution_count": 38,
   "metadata": {},
   "outputs": [
    {
     "data": {
      "text/plain": [
       "BOVA11   2020-03-31\n",
       "ABEV3    2020-04-30\n",
       "AZUL4    2020-05-31\n",
       "BBAS3    2020-03-31\n",
       "CVCB3    2020-03-31\n",
       "JBSS3    2020-03-31\n",
       "OIBR3    2020-03-31\n",
       "SMAL11   2020-03-31\n",
       "SMLS3    2020-05-31\n",
       "dtype: datetime64[ns]"
      ]
     },
     "execution_count": 38,
     "metadata": {},
     "output_type": "execute_result"
    }
   ],
   "source": [
    "drawdown.idxmin()"
   ]
  },
  {
   "cell_type": "markdown",
   "metadata": {},
   "source": [
    "## Beyond the Gaussian case: Extreme risk estimates"
   ]
  },
  {
   "cell_type": "markdown",
   "metadata": {},
   "source": [
    "### Deviations from normality"
   ]
  },
  {
   "cell_type": "markdown",
   "metadata": {},
   "source": [
    "### Downside risk measures"
   ]
  },
  {
   "cell_type": "code",
   "execution_count": 39,
   "metadata": {},
   "outputs": [],
   "source": [
    "def get_hfi_returns():\n",
    "    hfi = pd.read_csv(\"./data/edhec-hedgefundindices.csv\", header=0, index_col=0, parse_dates=True)\n",
    "    hfi = hfi/100\n",
    "    hfi.index = hfi.index.to_period(\"M\")\n",
    "    return hfi\n",
    "\n",
    "def skewness(r):\n",
    "    demeaned_r = r - r.mean()\n",
    "    sigma_r = r.std(ddof=0)\n",
    "    exp = (demeaned_r ** 3).mean()\n",
    "    return exp/sigma_r**3\n",
    "\n",
    "def kurtosis(r):\n",
    "    demeaned_r = r - r.mean()\n",
    "    sigma_r = r.std(ddof=0)\n",
    "    exp = (demeaned_r ** 4).mean()\n",
    "    return exp/sigma_r**4\n",
    "\n",
    "def get_ffme_return():\n",
    "    me_m = pd.read_csv(\"data/Portfolios_Formed_on_ME_monthly_EW.csv\", header=0, index_col=0, na_values=-99.99)\n",
    "    rets = me_m[[\"Lo 10\", \"Hi 10\"]]\n",
    "    rets.columns = [\"SmallCap\", \"LargeCap\"]\n",
    "    rets = rets/100\n",
    "    rets.index = pd.to_datetime(rets.index, format=\"%Y%m\").to_period(\"M\")\n",
    "    return rets"
   ]
  },
  {
   "cell_type": "code",
   "execution_count": 40,
   "metadata": {},
   "outputs": [],
   "source": [
    "hfi = get_hfi_returns()"
   ]
  },
  {
   "cell_type": "code",
   "execution_count": 41,
   "metadata": {},
   "outputs": [
    {
     "data": {
      "text/html": [
       "<div>\n",
       "<style scoped>\n",
       "    .dataframe tbody tr th:only-of-type {\n",
       "        vertical-align: middle;\n",
       "    }\n",
       "\n",
       "    .dataframe tbody tr th {\n",
       "        vertical-align: top;\n",
       "    }\n",
       "\n",
       "    .dataframe thead th {\n",
       "        text-align: right;\n",
       "    }\n",
       "</style>\n",
       "<table border=\"1\" class=\"dataframe\">\n",
       "  <thead>\n",
       "    <tr style=\"text-align: right;\">\n",
       "      <th></th>\n",
       "      <th>Convertible Arbitrage</th>\n",
       "      <th>CTA Global</th>\n",
       "      <th>Distressed Securities</th>\n",
       "      <th>Emerging Markets</th>\n",
       "      <th>Equity Market Neutral</th>\n",
       "      <th>Event Driven</th>\n",
       "      <th>Fixed Income Arbitrage</th>\n",
       "      <th>Global Macro</th>\n",
       "      <th>Long/Short Equity</th>\n",
       "      <th>Merger Arbitrage</th>\n",
       "      <th>Relative Value</th>\n",
       "      <th>Short Selling</th>\n",
       "      <th>Funds Of Funds</th>\n",
       "    </tr>\n",
       "    <tr>\n",
       "      <th>date</th>\n",
       "      <th></th>\n",
       "      <th></th>\n",
       "      <th></th>\n",
       "      <th></th>\n",
       "      <th></th>\n",
       "      <th></th>\n",
       "      <th></th>\n",
       "      <th></th>\n",
       "      <th></th>\n",
       "      <th></th>\n",
       "      <th></th>\n",
       "      <th></th>\n",
       "      <th></th>\n",
       "    </tr>\n",
       "  </thead>\n",
       "  <tbody>\n",
       "    <tr>\n",
       "      <th>1997-01</th>\n",
       "      <td>0.0119</td>\n",
       "      <td>0.0393</td>\n",
       "      <td>0.0178</td>\n",
       "      <td>0.0791</td>\n",
       "      <td>0.0189</td>\n",
       "      <td>0.0213</td>\n",
       "      <td>0.0191</td>\n",
       "      <td>0.0573</td>\n",
       "      <td>0.0281</td>\n",
       "      <td>0.0150</td>\n",
       "      <td>0.0180</td>\n",
       "      <td>-0.0166</td>\n",
       "      <td>0.0317</td>\n",
       "    </tr>\n",
       "    <tr>\n",
       "      <th>1997-02</th>\n",
       "      <td>0.0123</td>\n",
       "      <td>0.0298</td>\n",
       "      <td>0.0122</td>\n",
       "      <td>0.0525</td>\n",
       "      <td>0.0101</td>\n",
       "      <td>0.0084</td>\n",
       "      <td>0.0122</td>\n",
       "      <td>0.0175</td>\n",
       "      <td>-0.0006</td>\n",
       "      <td>0.0034</td>\n",
       "      <td>0.0118</td>\n",
       "      <td>0.0426</td>\n",
       "      <td>0.0106</td>\n",
       "    </tr>\n",
       "    <tr>\n",
       "      <th>1997-03</th>\n",
       "      <td>0.0078</td>\n",
       "      <td>-0.0021</td>\n",
       "      <td>-0.0012</td>\n",
       "      <td>-0.0120</td>\n",
       "      <td>0.0016</td>\n",
       "      <td>-0.0023</td>\n",
       "      <td>0.0109</td>\n",
       "      <td>-0.0119</td>\n",
       "      <td>-0.0084</td>\n",
       "      <td>0.0060</td>\n",
       "      <td>0.0010</td>\n",
       "      <td>0.0778</td>\n",
       "      <td>-0.0077</td>\n",
       "    </tr>\n",
       "    <tr>\n",
       "      <th>1997-04</th>\n",
       "      <td>0.0086</td>\n",
       "      <td>-0.0170</td>\n",
       "      <td>0.0030</td>\n",
       "      <td>0.0119</td>\n",
       "      <td>0.0119</td>\n",
       "      <td>-0.0005</td>\n",
       "      <td>0.0130</td>\n",
       "      <td>0.0172</td>\n",
       "      <td>0.0084</td>\n",
       "      <td>-0.0001</td>\n",
       "      <td>0.0122</td>\n",
       "      <td>-0.0129</td>\n",
       "      <td>0.0009</td>\n",
       "    </tr>\n",
       "    <tr>\n",
       "      <th>1997-05</th>\n",
       "      <td>0.0156</td>\n",
       "      <td>-0.0015</td>\n",
       "      <td>0.0233</td>\n",
       "      <td>0.0315</td>\n",
       "      <td>0.0189</td>\n",
       "      <td>0.0346</td>\n",
       "      <td>0.0118</td>\n",
       "      <td>0.0108</td>\n",
       "      <td>0.0394</td>\n",
       "      <td>0.0197</td>\n",
       "      <td>0.0173</td>\n",
       "      <td>-0.0737</td>\n",
       "      <td>0.0275</td>\n",
       "    </tr>\n",
       "  </tbody>\n",
       "</table>\n",
       "</div>"
      ],
      "text/plain": [
       "         Convertible Arbitrage  CTA Global  Distressed Securities  \\\n",
       "date                                                                \n",
       "1997-01                 0.0119      0.0393                 0.0178   \n",
       "1997-02                 0.0123      0.0298                 0.0122   \n",
       "1997-03                 0.0078     -0.0021                -0.0012   \n",
       "1997-04                 0.0086     -0.0170                 0.0030   \n",
       "1997-05                 0.0156     -0.0015                 0.0233   \n",
       "\n",
       "         Emerging Markets  Equity Market Neutral  Event Driven  \\\n",
       "date                                                             \n",
       "1997-01            0.0791                 0.0189        0.0213   \n",
       "1997-02            0.0525                 0.0101        0.0084   \n",
       "1997-03           -0.0120                 0.0016       -0.0023   \n",
       "1997-04            0.0119                 0.0119       -0.0005   \n",
       "1997-05            0.0315                 0.0189        0.0346   \n",
       "\n",
       "         Fixed Income Arbitrage  Global Macro  Long/Short Equity  \\\n",
       "date                                                               \n",
       "1997-01                  0.0191        0.0573             0.0281   \n",
       "1997-02                  0.0122        0.0175            -0.0006   \n",
       "1997-03                  0.0109       -0.0119            -0.0084   \n",
       "1997-04                  0.0130        0.0172             0.0084   \n",
       "1997-05                  0.0118        0.0108             0.0394   \n",
       "\n",
       "         Merger Arbitrage  Relative Value  Short Selling  Funds Of Funds  \n",
       "date                                                                      \n",
       "1997-01            0.0150          0.0180        -0.0166          0.0317  \n",
       "1997-02            0.0034          0.0118         0.0426          0.0106  \n",
       "1997-03            0.0060          0.0010         0.0778         -0.0077  \n",
       "1997-04           -0.0001          0.0122        -0.0129          0.0009  \n",
       "1997-05            0.0197          0.0173        -0.0737          0.0275  "
      ]
     },
     "execution_count": 41,
     "metadata": {},
     "output_type": "execute_result"
    }
   ],
   "source": [
    "hfi.head()"
   ]
  },
  {
   "cell_type": "code",
   "execution_count": 42,
   "metadata": {},
   "outputs": [
    {
     "data": {
      "text/html": [
       "<div>\n",
       "<style scoped>\n",
       "    .dataframe tbody tr th:only-of-type {\n",
       "        vertical-align: middle;\n",
       "    }\n",
       "\n",
       "    .dataframe tbody tr th {\n",
       "        vertical-align: top;\n",
       "    }\n",
       "\n",
       "    .dataframe thead th {\n",
       "        text-align: right;\n",
       "    }\n",
       "</style>\n",
       "<table border=\"1\" class=\"dataframe\">\n",
       "  <thead>\n",
       "    <tr style=\"text-align: right;\">\n",
       "      <th></th>\n",
       "      <th>0</th>\n",
       "      <th>1</th>\n",
       "      <th>2</th>\n",
       "    </tr>\n",
       "  </thead>\n",
       "  <tbody>\n",
       "    <tr>\n",
       "      <th>Convertible Arbitrage</th>\n",
       "      <td>0.005508</td>\n",
       "      <td>0.0065</td>\n",
       "      <td>False</td>\n",
       "    </tr>\n",
       "    <tr>\n",
       "      <th>CTA Global</th>\n",
       "      <td>0.004074</td>\n",
       "      <td>0.0014</td>\n",
       "      <td>True</td>\n",
       "    </tr>\n",
       "    <tr>\n",
       "      <th>Distressed Securities</th>\n",
       "      <td>0.006946</td>\n",
       "      <td>0.0089</td>\n",
       "      <td>False</td>\n",
       "    </tr>\n",
       "    <tr>\n",
       "      <th>Emerging Markets</th>\n",
       "      <td>0.006253</td>\n",
       "      <td>0.0096</td>\n",
       "      <td>False</td>\n",
       "    </tr>\n",
       "    <tr>\n",
       "      <th>Equity Market Neutral</th>\n",
       "      <td>0.004498</td>\n",
       "      <td>0.0051</td>\n",
       "      <td>False</td>\n",
       "    </tr>\n",
       "    <tr>\n",
       "      <th>Event Driven</th>\n",
       "      <td>0.006344</td>\n",
       "      <td>0.0084</td>\n",
       "      <td>False</td>\n",
       "    </tr>\n",
       "    <tr>\n",
       "      <th>Fixed Income Arbitrage</th>\n",
       "      <td>0.004365</td>\n",
       "      <td>0.0055</td>\n",
       "      <td>False</td>\n",
       "    </tr>\n",
       "    <tr>\n",
       "      <th>Global Macro</th>\n",
       "      <td>0.005403</td>\n",
       "      <td>0.0038</td>\n",
       "      <td>True</td>\n",
       "    </tr>\n",
       "    <tr>\n",
       "      <th>Long/Short Equity</th>\n",
       "      <td>0.006331</td>\n",
       "      <td>0.0079</td>\n",
       "      <td>False</td>\n",
       "    </tr>\n",
       "    <tr>\n",
       "      <th>Merger Arbitrage</th>\n",
       "      <td>0.005356</td>\n",
       "      <td>0.0060</td>\n",
       "      <td>False</td>\n",
       "    </tr>\n",
       "    <tr>\n",
       "      <th>Relative Value</th>\n",
       "      <td>0.005792</td>\n",
       "      <td>0.0067</td>\n",
       "      <td>False</td>\n",
       "    </tr>\n",
       "    <tr>\n",
       "      <th>Short Selling</th>\n",
       "      <td>-0.001701</td>\n",
       "      <td>-0.0053</td>\n",
       "      <td>True</td>\n",
       "    </tr>\n",
       "    <tr>\n",
       "      <th>Funds Of Funds</th>\n",
       "      <td>0.004262</td>\n",
       "      <td>0.0052</td>\n",
       "      <td>False</td>\n",
       "    </tr>\n",
       "  </tbody>\n",
       "</table>\n",
       "</div>"
      ],
      "text/plain": [
       "                               0       1      2\n",
       "Convertible Arbitrage   0.005508  0.0065  False\n",
       "CTA Global              0.004074  0.0014   True\n",
       "Distressed Securities   0.006946  0.0089  False\n",
       "Emerging Markets        0.006253  0.0096  False\n",
       "Equity Market Neutral   0.004498  0.0051  False\n",
       "Event Driven            0.006344  0.0084  False\n",
       "Fixed Income Arbitrage  0.004365  0.0055  False\n",
       "Global Macro            0.005403  0.0038   True\n",
       "Long/Short Equity       0.006331  0.0079  False\n",
       "Merger Arbitrage        0.005356  0.0060  False\n",
       "Relative Value          0.005792  0.0067  False\n",
       "Short Selling          -0.001701 -0.0053   True\n",
       "Funds Of Funds          0.004262  0.0052  False"
      ]
     },
     "execution_count": 42,
     "metadata": {},
     "output_type": "execute_result"
    }
   ],
   "source": [
    "pd.concat([hfi.mean(), hfi.median(), hfi.mean() > hfi.median()], axis='columns')"
   ]
  },
  {
   "cell_type": "code",
   "execution_count": 43,
   "metadata": {},
   "outputs": [
    {
     "data": {
      "text/plain": [
       "Fixed Income Arbitrage   -3.940320\n",
       "Convertible Arbitrage    -2.639592\n",
       "Equity Market Neutral    -2.124435\n",
       "Relative Value           -1.815470\n",
       "Event Driven             -1.409154\n",
       "Merger Arbitrage         -1.320083\n",
       "Distressed Securities    -1.300842\n",
       "Emerging Markets         -1.167067\n",
       "Long/Short Equity        -0.390227\n",
       "Funds Of Funds           -0.361783\n",
       "CTA Global                0.173699\n",
       "Short Selling             0.767975\n",
       "Global Macro              0.982922\n",
       "dtype: float64"
      ]
     },
     "execution_count": 43,
     "metadata": {},
     "output_type": "execute_result"
    }
   ],
   "source": [
    "skewness(hfi).sort_values()"
   ]
  },
  {
   "cell_type": "code",
   "execution_count": 44,
   "metadata": {},
   "outputs": [],
   "source": [
    "from scipy import stats"
   ]
  },
  {
   "cell_type": "code",
   "execution_count": 45,
   "metadata": {},
   "outputs": [
    {
     "data": {
      "text/plain": [
       "array([-2.63959223,  0.17369864, -1.30084204, -1.16706749, -2.12443538,\n",
       "       -1.40915356, -3.94032029,  0.98292188, -0.39022677, -1.32008333,\n",
       "       -1.81546975,  0.76797484, -0.36178308])"
      ]
     },
     "execution_count": 45,
     "metadata": {},
     "output_type": "execute_result"
    }
   ],
   "source": [
    "stats.skew(hfi)"
   ]
  },
  {
   "cell_type": "code",
   "execution_count": 46,
   "metadata": {},
   "outputs": [],
   "source": [
    "normal_rets = np.random.normal(0, .15, size=(26300, 1))"
   ]
  },
  {
   "cell_type": "code",
   "execution_count": 47,
   "metadata": {},
   "outputs": [
    {
     "data": {
      "text/plain": [
       "array([0.01874656])"
      ]
     },
     "execution_count": 47,
     "metadata": {},
     "output_type": "execute_result"
    }
   ],
   "source": [
    "stats.skew(normal_rets)"
   ]
  },
  {
   "cell_type": "code",
   "execution_count": 48,
   "metadata": {},
   "outputs": [
    {
     "data": {
      "text/plain": [
       "CTA Global                 2.952960\n",
       "Long/Short Equity          4.523893\n",
       "Global Macro               5.741679\n",
       "Short Selling              6.117772\n",
       "Funds Of Funds             7.070153\n",
       "Distressed Securities      7.889983\n",
       "Event Driven               8.035828\n",
       "Merger Arbitrage           8.738950\n",
       "Emerging Markets           9.250788\n",
       "Relative Value            12.121208\n",
       "Equity Market Neutral     17.218555\n",
       "Convertible Arbitrage     23.280834\n",
       "Fixed Income Arbitrage    29.842199\n",
       "dtype: float64"
      ]
     },
     "execution_count": 48,
     "metadata": {},
     "output_type": "execute_result"
    }
   ],
   "source": [
    "kurtosis(hfi).sort_values()"
   ]
  },
  {
   "cell_type": "code",
   "execution_count": 49,
   "metadata": {},
   "outputs": [
    {
     "data": {
      "text/plain": [
       "array([20.28083446, -0.04703963,  4.88998336,  6.25078841, 14.21855526,\n",
       "        5.03582817, 26.84219928,  2.74167945,  1.52389258,  5.73894979,\n",
       "        9.12120787,  3.11777175,  4.07015278])"
      ]
     },
     "execution_count": 49,
     "metadata": {},
     "output_type": "execute_result"
    }
   ],
   "source": [
    "stats.kurtosis(hfi)"
   ]
  },
  {
   "cell_type": "code",
   "execution_count": 50,
   "metadata": {},
   "outputs": [
    {
     "data": {
      "text/plain": [
       "Jarque_beraResult(statistic=2.6945740994194765, pvalue=0.25994452146660485)"
      ]
     },
     "execution_count": 50,
     "metadata": {},
     "output_type": "execute_result"
    }
   ],
   "source": [
    "stats.jarque_bera(normal_rets)"
   ]
  },
  {
   "cell_type": "code",
   "execution_count": 51,
   "metadata": {},
   "outputs": [
    {
     "data": {
      "text/plain": [
       "False"
      ]
     },
     "execution_count": 51,
     "metadata": {},
     "output_type": "execute_result"
    }
   ],
   "source": [
    "s, p = stats.jarque_bera(hfi)\n",
    "p > .01"
   ]
  },
  {
   "cell_type": "code",
   "execution_count": 52,
   "metadata": {},
   "outputs": [
    {
     "data": {
      "text/plain": [
       "True"
      ]
     },
     "execution_count": 52,
     "metadata": {},
     "output_type": "execute_result"
    }
   ],
   "source": [
    "s, p = stats.jarque_bera(normal_rets)\n",
    "p > .01"
   ]
  },
  {
   "cell_type": "code",
   "execution_count": 53,
   "metadata": {},
   "outputs": [],
   "source": [
    "def is_normal(df, conf = .01):\n",
    "    s, p = stats.jarque_bera(df)\n",
    "    return p > conf"
   ]
  },
  {
   "cell_type": "code",
   "execution_count": 54,
   "metadata": {},
   "outputs": [
    {
     "data": {
      "text/plain": [
       "Convertible Arbitrage     False\n",
       "CTA Global                 True\n",
       "Distressed Securities     False\n",
       "Emerging Markets          False\n",
       "Equity Market Neutral     False\n",
       "Event Driven              False\n",
       "Fixed Income Arbitrage    False\n",
       "Global Macro              False\n",
       "Long/Short Equity         False\n",
       "Merger Arbitrage          False\n",
       "Relative Value            False\n",
       "Short Selling             False\n",
       "Funds Of Funds            False\n",
       "dtype: bool"
      ]
     },
     "execution_count": 54,
     "metadata": {},
     "output_type": "execute_result"
    }
   ],
   "source": [
    "hfi.aggregate(is_normal)"
   ]
  },
  {
   "cell_type": "code",
   "execution_count": 55,
   "metadata": {},
   "outputs": [],
   "source": [
    "rets = get_ffme_return()"
   ]
  },
  {
   "cell_type": "code",
   "execution_count": 56,
   "metadata": {},
   "outputs": [
    {
     "data": {
      "text/plain": [
       "SmallCap    4.410739\n",
       "LargeCap    0.233445\n",
       "dtype: float64"
      ]
     },
     "execution_count": 56,
     "metadata": {},
     "output_type": "execute_result"
    }
   ],
   "source": [
    "rets.aggregate(stats.skew)"
   ]
  },
  {
   "cell_type": "code",
   "execution_count": 57,
   "metadata": {},
   "outputs": [
    {
     "data": {
      "text/plain": [
       "SmallCap    43.845008\n",
       "LargeCap     7.694654\n",
       "dtype: float64"
      ]
     },
     "execution_count": 57,
     "metadata": {},
     "output_type": "execute_result"
    }
   ],
   "source": [
    "rets.aggregate(stats.kurtosis)"
   ]
  },
  {
   "cell_type": "code",
   "execution_count": 58,
   "metadata": {},
   "outputs": [
    {
     "data": {
      "text/plain": [
       "SmallCap    False\n",
       "LargeCap    False\n",
       "dtype: bool"
      ]
     },
     "execution_count": 58,
     "metadata": {},
     "output_type": "execute_result"
    }
   ],
   "source": [
    "rets.aggregate(is_normal)"
   ]
  },
  {
   "cell_type": "markdown",
   "metadata": {},
   "source": [
    "### Estimating VaR"
   ]
  },
  {
   "attachments": {},
   "cell_type": "markdown",
   "metadata": {},
   "source": [
    "- Consider a portfolio with a +.5% monthly expected return and 4% monthly volatility. What is the 95% monthly Gaussian VaR for the portfolio?  \n",
    "VaR = -(.5%-1.65x4%) = 6.1%\n",
    "  \n",
    "  \n",
    "- Consider an asset with a skewness equal to -1.2 and kurtosis equal to 6. Keeping in mind that Z5%, the critical value for probability 95% is -1.65, indicate what would be the modified critical value for probability 95% using the Cornish Fisher expansion.\n",
    "![image.png](img/1.png)"
   ]
  },
  {
   "cell_type": "markdown",
   "metadata": {},
   "source": [
    "### Lab Session-Semi Deviation, VAR and CVAR"
   ]
  },
  {
   "cell_type": "code",
   "execution_count": 59,
   "metadata": {},
   "outputs": [],
   "source": [
    "hfi = get_hfi_returns()"
   ]
  },
  {
   "cell_type": "markdown",
   "metadata": {},
   "source": [
    "##### Semideviation"
   ]
  },
  {
   "cell_type": "code",
   "execution_count": 60,
   "metadata": {},
   "outputs": [],
   "source": [
    "def semideviation(r):\n",
    "    is_negative = r < 0\n",
    "    return r[is_negative].std(ddof=0)"
   ]
  },
  {
   "cell_type": "code",
   "execution_count": 61,
   "metadata": {},
   "outputs": [
    {
     "data": {
      "text/plain": [
       "Convertible Arbitrage     0.016536\n",
       "CTA Global                0.023290\n",
       "Distressed Securities     0.017009\n",
       "Emerging Markets          0.032476\n",
       "Equity Market Neutral     0.008115\n",
       "Event Driven              0.016712\n",
       "Fixed Income Arbitrage    0.011517\n",
       "Global Macro              0.014694\n",
       "Long/Short Equity         0.019897\n",
       "Merger Arbitrage          0.009600\n",
       "Relative Value            0.011462\n",
       "Short Selling             0.047655\n",
       "Funds Of Funds            0.015536\n",
       "dtype: float64"
      ]
     },
     "execution_count": 61,
     "metadata": {},
     "output_type": "execute_result"
    }
   ],
   "source": [
    "hfi.std(ddof=0) # This is the standard std"
   ]
  },
  {
   "cell_type": "code",
   "execution_count": 62,
   "metadata": {},
   "outputs": [
    {
     "data": {
      "text/plain": [
       "Convertible Arbitrage     0.019540\n",
       "CTA Global                0.012443\n",
       "Distressed Securities     0.015185\n",
       "Emerging Markets          0.028039\n",
       "Equity Market Neutral     0.009566\n",
       "Event Driven              0.015429\n",
       "Fixed Income Arbitrage    0.017763\n",
       "Global Macro              0.006579\n",
       "Long/Short Equity         0.014051\n",
       "Merger Arbitrage          0.008875\n",
       "Relative Value            0.012244\n",
       "Short Selling             0.027283\n",
       "Funds Of Funds            0.012122\n",
       "dtype: float64"
      ]
     },
     "execution_count": 62,
     "metadata": {},
     "output_type": "execute_result"
    }
   ],
   "source": [
    "hfi[hfi<0].std(ddof=0) # std for values which are lower than zero"
   ]
  },
  {
   "cell_type": "code",
   "execution_count": 63,
   "metadata": {},
   "outputs": [
    {
     "data": {
      "text/plain": [
       "Convertible Arbitrage     0.019540\n",
       "CTA Global                0.012443\n",
       "Distressed Securities     0.015185\n",
       "Emerging Markets          0.028039\n",
       "Equity Market Neutral     0.009566\n",
       "Event Driven              0.015429\n",
       "Fixed Income Arbitrage    0.017763\n",
       "Global Macro              0.006579\n",
       "Long/Short Equity         0.014051\n",
       "Merger Arbitrage          0.008875\n",
       "Relative Value            0.012244\n",
       "Short Selling             0.027283\n",
       "Funds Of Funds            0.012122\n",
       "dtype: float64"
      ]
     },
     "execution_count": 63,
     "metadata": {},
     "output_type": "execute_result"
    }
   ],
   "source": [
    "semideviation(hfi)"
   ]
  },
  {
   "cell_type": "markdown",
   "metadata": {},
   "source": [
    "##### VaR and CVaR\n",
    "Value at Risk\n",
    "\n",
    "- Historic VaR;\n",
    "- Parametric VaR (Gaussian Parametric);\n",
    "- Modified Cornish-Fisher VaR (returns are not Gaussian, assuming fat tails);"
   ]
  },
  {
   "cell_type": "markdown",
   "metadata": {},
   "source": [
    "##### Historic VaR\n",
    "We look at the past returns and assume the future will be the same."
   ]
  },
  {
   "cell_type": "code",
   "execution_count": 64,
   "metadata": {},
   "outputs": [],
   "source": [
    "from scipy.stats import norm"
   ]
  },
  {
   "cell_type": "code",
   "execution_count": 65,
   "metadata": {},
   "outputs": [
    {
     "data": {
      "text/plain": [
       "array([-0.01576, -0.03169, -0.01966, -0.04247, -0.00814, -0.02535,\n",
       "       -0.00787, -0.01499, -0.02598, -0.01047, -0.01174, -0.06783,\n",
       "       -0.02047])"
      ]
     },
     "execution_count": 65,
     "metadata": {},
     "output_type": "execute_result"
    }
   ],
   "source": [
    "np.percentile(hfi, 5, axis=0)"
   ]
  },
  {
   "cell_type": "code",
   "execution_count": 66,
   "metadata": {},
   "outputs": [],
   "source": [
    "def var_historic(r, level=5):\n",
    "    if isinstance(r, pd.DataFrame):\n",
    "        return r.aggregate(var_historic, level=level)\n",
    "    elif isinstance(r, pd.Series):\n",
    "        return -np.percentile(r, level)\n",
    "    else:\n",
    "        raise TypeError(\"Expected r to be Series or DataFrame\")\n",
    "        \n",
    "def var_gaussian(r, level=5, modified=False):\n",
    "    z = norm.ppf(level/100)\n",
    "    if modified:\n",
    "        s = skewness(r)\n",
    "        k = kurtosis(r)\n",
    "        z = (z + \n",
    "                (z**2 -1) *s /6 +\n",
    "                (z**3 -3*z)*(k-3)/24 - \n",
    "                (2*z**3 - 5*z) * (s**2)/36\n",
    "            )\n",
    "    \n",
    "    return -(r.mean() + z*r.std(ddof=0))"
   ]
  },
  {
   "cell_type": "code",
   "execution_count": 67,
   "metadata": {},
   "outputs": [
    {
     "data": {
      "text/plain": [
       "Convertible Arbitrage     0.01576\n",
       "CTA Global                0.03169\n",
       "Distressed Securities     0.01966\n",
       "Emerging Markets          0.04247\n",
       "Equity Market Neutral     0.00814\n",
       "Event Driven              0.02535\n",
       "Fixed Income Arbitrage    0.00787\n",
       "Global Macro              0.01499\n",
       "Long/Short Equity         0.02598\n",
       "Merger Arbitrage          0.01047\n",
       "Relative Value            0.01174\n",
       "Short Selling             0.06783\n",
       "Funds Of Funds            0.02047\n",
       "dtype: float64"
      ]
     },
     "execution_count": 67,
     "metadata": {},
     "output_type": "execute_result"
    }
   ],
   "source": [
    "var_historic(hfi)"
   ]
  },
  {
   "cell_type": "code",
   "execution_count": 68,
   "metadata": {},
   "outputs": [
    {
     "data": {
      "text/plain": [
       "-1.6448536269514729"
      ]
     },
     "execution_count": 68,
     "metadata": {},
     "output_type": "execute_result"
    }
   ],
   "source": [
    "z = norm.ppf(.05)\n",
    "z"
   ]
  },
  {
   "cell_type": "code",
   "execution_count": 69,
   "metadata": {},
   "outputs": [
    {
     "data": {
      "text/plain": [
       "Convertible Arbitrage     0.021691\n",
       "CTA Global                0.034235\n",
       "Distressed Securities     0.021032\n",
       "Emerging Markets          0.047164\n",
       "Equity Market Neutral     0.008850\n",
       "Event Driven              0.021144\n",
       "Fixed Income Arbitrage    0.014579\n",
       "Global Macro              0.018766\n",
       "Long/Short Equity         0.026397\n",
       "Merger Arbitrage          0.010435\n",
       "Relative Value            0.013061\n",
       "Short Selling             0.080086\n",
       "Funds Of Funds            0.021292\n",
       "dtype: float64"
      ]
     },
     "execution_count": 69,
     "metadata": {},
     "output_type": "execute_result"
    }
   ],
   "source": [
    "- (hfi.mean() + z * hfi.std(ddof=0))"
   ]
  },
  {
   "cell_type": "code",
   "execution_count": 70,
   "metadata": {},
   "outputs": [
    {
     "data": {
      "text/plain": [
       "Convertible Arbitrage     0.021691\n",
       "CTA Global                0.034235\n",
       "Distressed Securities     0.021032\n",
       "Emerging Markets          0.047164\n",
       "Equity Market Neutral     0.008850\n",
       "Event Driven              0.021144\n",
       "Fixed Income Arbitrage    0.014579\n",
       "Global Macro              0.018766\n",
       "Long/Short Equity         0.026397\n",
       "Merger Arbitrage          0.010435\n",
       "Relative Value            0.013061\n",
       "Short Selling             0.080086\n",
       "Funds Of Funds            0.021292\n",
       "dtype: float64"
      ]
     },
     "execution_count": 70,
     "metadata": {},
     "output_type": "execute_result"
    }
   ],
   "source": [
    "var_gaussian(hfi)"
   ]
  },
  {
   "cell_type": "code",
   "execution_count": 71,
   "metadata": {},
   "outputs": [
    {
     "data": {
      "text/plain": [
       "Convertible Arbitrage     0.032960\n",
       "CTA Global                0.050107\n",
       "Distressed Securities     0.032623\n",
       "Emerging Markets          0.069296\n",
       "Equity Market Neutral     0.014380\n",
       "Event Driven              0.032533\n",
       "Fixed Income Arbitrage    0.022428\n",
       "Global Macro              0.028780\n",
       "Long/Short Equity         0.039956\n",
       "Merger Arbitrage          0.016978\n",
       "Relative Value            0.020873\n",
       "Short Selling             0.112563\n",
       "Funds Of Funds            0.031880\n",
       "dtype: float64"
      ]
     },
     "execution_count": 71,
     "metadata": {},
     "output_type": "execute_result"
    }
   ],
   "source": [
    "var_gaussian(hfi, True)"
   ]
  },
  {
   "cell_type": "code",
   "execution_count": 72,
   "metadata": {},
   "outputs": [
    {
     "data": {
      "text/html": [
       "<div>\n",
       "<style scoped>\n",
       "    .dataframe tbody tr th:only-of-type {\n",
       "        vertical-align: middle;\n",
       "    }\n",
       "\n",
       "    .dataframe tbody tr th {\n",
       "        vertical-align: top;\n",
       "    }\n",
       "\n",
       "    .dataframe thead th {\n",
       "        text-align: right;\n",
       "    }\n",
       "</style>\n",
       "<table border=\"1\" class=\"dataframe\">\n",
       "  <thead>\n",
       "    <tr style=\"text-align: right;\">\n",
       "      <th></th>\n",
       "      <th>gaussian</th>\n",
       "      <th>cornish-fisher</th>\n",
       "      <th>historic</th>\n",
       "    </tr>\n",
       "  </thead>\n",
       "  <tbody>\n",
       "    <tr>\n",
       "      <th>Convertible Arbitrage</th>\n",
       "      <td>0.021691</td>\n",
       "      <td>0.025166</td>\n",
       "      <td>0.01576</td>\n",
       "    </tr>\n",
       "    <tr>\n",
       "      <th>CTA Global</th>\n",
       "      <td>0.034235</td>\n",
       "      <td>0.033094</td>\n",
       "      <td>0.03169</td>\n",
       "    </tr>\n",
       "    <tr>\n",
       "      <th>Distressed Securities</th>\n",
       "      <td>0.021032</td>\n",
       "      <td>0.025102</td>\n",
       "      <td>0.01966</td>\n",
       "    </tr>\n",
       "    <tr>\n",
       "      <th>Emerging Markets</th>\n",
       "      <td>0.047164</td>\n",
       "      <td>0.053011</td>\n",
       "      <td>0.04247</td>\n",
       "    </tr>\n",
       "    <tr>\n",
       "      <th>Equity Market Neutral</th>\n",
       "      <td>0.008850</td>\n",
       "      <td>0.010734</td>\n",
       "      <td>0.00814</td>\n",
       "    </tr>\n",
       "    <tr>\n",
       "      <th>Event Driven</th>\n",
       "      <td>0.021144</td>\n",
       "      <td>0.025516</td>\n",
       "      <td>0.02535</td>\n",
       "    </tr>\n",
       "    <tr>\n",
       "      <th>Fixed Income Arbitrage</th>\n",
       "      <td>0.014579</td>\n",
       "      <td>0.017881</td>\n",
       "      <td>0.00787</td>\n",
       "    </tr>\n",
       "    <tr>\n",
       "      <th>Global Macro</th>\n",
       "      <td>0.018766</td>\n",
       "      <td>0.013581</td>\n",
       "      <td>0.01499</td>\n",
       "    </tr>\n",
       "    <tr>\n",
       "      <th>Long/Short Equity</th>\n",
       "      <td>0.026397</td>\n",
       "      <td>0.027935</td>\n",
       "      <td>0.02598</td>\n",
       "    </tr>\n",
       "    <tr>\n",
       "      <th>Merger Arbitrage</th>\n",
       "      <td>0.010435</td>\n",
       "      <td>0.012612</td>\n",
       "      <td>0.01047</td>\n",
       "    </tr>\n",
       "    <tr>\n",
       "      <th>Relative Value</th>\n",
       "      <td>0.013061</td>\n",
       "      <td>0.016157</td>\n",
       "      <td>0.01174</td>\n",
       "    </tr>\n",
       "    <tr>\n",
       "      <th>Short Selling</th>\n",
       "      <td>0.080086</td>\n",
       "      <td>0.066157</td>\n",
       "      <td>0.06783</td>\n",
       "    </tr>\n",
       "    <tr>\n",
       "      <th>Funds Of Funds</th>\n",
       "      <td>0.021292</td>\n",
       "      <td>0.021576</td>\n",
       "      <td>0.02047</td>\n",
       "    </tr>\n",
       "  </tbody>\n",
       "</table>\n",
       "</div>"
      ],
      "text/plain": [
       "                        gaussian  cornish-fisher  historic\n",
       "Convertible Arbitrage   0.021691        0.025166   0.01576\n",
       "CTA Global              0.034235        0.033094   0.03169\n",
       "Distressed Securities   0.021032        0.025102   0.01966\n",
       "Emerging Markets        0.047164        0.053011   0.04247\n",
       "Equity Market Neutral   0.008850        0.010734   0.00814\n",
       "Event Driven            0.021144        0.025516   0.02535\n",
       "Fixed Income Arbitrage  0.014579        0.017881   0.00787\n",
       "Global Macro            0.018766        0.013581   0.01499\n",
       "Long/Short Equity       0.026397        0.027935   0.02598\n",
       "Merger Arbitrage        0.010435        0.012612   0.01047\n",
       "Relative Value          0.013061        0.016157   0.01174\n",
       "Short Selling           0.080086        0.066157   0.06783\n",
       "Funds Of Funds          0.021292        0.021576   0.02047"
      ]
     },
     "execution_count": 72,
     "metadata": {},
     "output_type": "execute_result"
    }
   ],
   "source": [
    "comparison = pd.concat(\n",
    "    [var_gaussian(hfi), var_gaussian(hfi, modified=True), var_historic(hfi)], axis=1\n",
    ")\n",
    "comparison.columns = [\"gaussian\", \"cornish-fisher\", \"historic\"]\n",
    "comparison"
   ]
  },
  {
   "cell_type": "code",
   "execution_count": 73,
   "metadata": {},
   "outputs": [
    {
     "data": {
      "text/plain": [
       "<matplotlib.axes._subplots.AxesSubplot at 0x7f4ca2e93100>"
      ]
     },
     "execution_count": 73,
     "metadata": {},
     "output_type": "execute_result"
    },
    {
     "data": {
      "image/png": "[encoded data removed]",
      "text/plain": [
       "<Figure size 432x288 with 1 Axes>"
      ]
     },
     "metadata": {
      "needs_background": "light"
     },
     "output_type": "display_data"
    }
   ],
   "source": [
    "comparison.plot.bar(title=\"VaR\")"
   ]
  },
  {
   "cell_type": "markdown",
   "metadata": {},
   "source": [
    "##### BeyondVar aka CVaR"
   ]
  },
  {
   "cell_type": "code",
   "execution_count": 74,
   "metadata": {},
   "outputs": [],
   "source": [
    "def cvar_historic(r, level=5):\n",
    "    \"\"\"\n",
    "    Computes the Conditional VaR of Series or DataFrame\n",
    "    \"\"\"\n",
    "    if isinstance(r, pd.Series):\n",
    "        is_beyond = r <= var_historic(r, level=level)\n",
    "        return -r[is_beyond].mean()\n",
    "    elif isinstance(r, pd.DataFrame):\n",
    "        return r.aggregate(cvar_historic, level=level)\n",
    "    else:\n",
    "        raise TypeError(\"Expected r to be a Series or DataFrame\")"
   ]
  },
  {
   "cell_type": "code",
   "execution_count": 75,
   "metadata": {},
   "outputs": [
    {
     "data": {
      "text/plain": [
       "Convertible Arbitrage    -0.001672\n",
       "CTA Global                0.001510\n",
       "Distressed Securities    -0.001871\n",
       "Emerging Markets         -0.001028\n",
       "Equity Market Neutral    -0.001603\n",
       "Event Driven             -0.003557\n",
       "Fixed Income Arbitrage   -0.000380\n",
       "Global Macro              0.000065\n",
       "Long/Short Equity        -0.002061\n",
       "Merger Arbitrage         -0.001469\n",
       "Relative Value           -0.001211\n",
       "Short Selling             0.009873\n",
       "Funds Of Funds           -0.001228\n",
       "dtype: float64"
      ]
     },
     "execution_count": 75,
     "metadata": {},
     "output_type": "execute_result"
    }
   ],
   "source": [
    "cvar_historic(hfi)"
   ]
  },
  {
   "cell_type": "markdown",
   "metadata": {},
   "source": [
    "# Week 2\n",
    "An Introduction to Portfolio Optimization\n",
    "## Introduction to Optimization and The Efficient Frontier\n",
    "### The only free lunch in finance"
   ]
  },
  {
   "cell_type": "markdown",
   "metadata": {},
   "source": [
    "- If A and B are perfectly correlated, then the volatility of a portfolio that is 50% in A and 50% in B is the average of the volatilities of A and B:  \n",
    "The returns of perfectly correlated portfolios are in sync with each other and the portfolio volatility is the average of the volatilities of A and B\n",
    "  \n",
    "  \n",
    "- The volatility of a portfolio of two assets that have non-zero weights and a correlation coefficient of 0.9 is always strictly lower than the weighted average volatility of the two assets:  \n",
    "As long as the two weights are non-zero and the correlation between the two assets are less than 1, the volatility of the portfolio will always be less than the weighted average volatilities of the two assets.\n",
    "  \n",
    "  \n",
    "- An analyst tells you that the minimum volatility portfolio you can construct from two risky assets X and Y is to put 100% of your capital in X. What is the analyst telling you?  \n",
    "Either X and Y are perfectly correlated  \n",
    "If X and Y are perfectly correlated, the minimum value portfolio is obtained by putting 100% of your capital in the portfolio with the lower of the two volatility.  \n",
    "\n",
    "- The lowest possible volatility you can construct from a portfolio of two assets A and B:  \n",
    "INCREASES as the correlation between A and B increases  \n",
    "CORRECT as correlations increase, the volatility of the minimum possible volatility portfolio increases\n"
   ]
  },
  {
   "cell_type": "markdown",
   "metadata": {},
   "source": [
    "### Lab Session: Efficient Frontier - Part1"
   ]
  },
  {
   "cell_type": "code",
   "execution_count": 121,
   "metadata": {},
   "outputs": [],
   "source": [
    "def annualize_rets(r, periods_per_year):\n",
    "    \"\"\"\n",
    "    Annualizes a set of returns\n",
    "    We should infer the periods per year\n",
    "    but that is currently left as an exercise\n",
    "    to the reader :-)\n",
    "    \"\"\"\n",
    "    compounded_growth = (1+r).prod()\n",
    "    n_periods = r.shape[0]\n",
    "    return compounded_growth**(periods_per_year/n_periods)-1\n",
    "\n",
    "def annualize_vol(r, periods_per_year):\n",
    "    \"\"\"\n",
    "    Annualizes the vol of a set of returns\n",
    "    We should infer the periods per year\n",
    "    but that is currently left as an exercise\n",
    "    to the reader :-)\n",
    "    \"\"\"\n",
    "    return r.std()*(periods_per_year**0.5)\n",
    "\n",
    "\n",
    "def sharpe_ratio(r, riskfree_rate, periods_per_year):\n",
    "    \"\"\"\n",
    "    Computes the annualized sharpe ratio of a set of returns\n",
    "    \"\"\"\n",
    "    # convert the annual riskfree rate to per period\n",
    "    rf_per_period = (1+riskfree_rate)**(1/periods_per_year)-1\n",
    "    excess_ret = r - rf_per_period\n",
    "    ann_ex_ret = annualize_rets(excess_ret, periods_per_year)\n",
    "    ann_vol = annualize_vol(r, periods_per_year)\n",
    "    return ann_ex_ret/ann_vol"
   ]
  },
  {
   "cell_type": "code",
   "execution_count": 85,
   "metadata": {},
   "outputs": [],
   "source": [
    "ind = pd.read_csv(\"data/ind30_m_vw_rets.csv\", header=0, index_col=0, parse_dates=True)/100"
   ]
  },
  {
   "cell_type": "code",
   "execution_count": 87,
   "metadata": {},
   "outputs": [],
   "source": [
    "ind.index = pd.to_datetime(ind.index, format=\"%Y%m\").to_period(\"M\")"
   ]
  },
  {
   "cell_type": "code",
   "execution_count": 88,
   "metadata": {},
   "outputs": [
    {
     "data": {
      "text/html": [
       "<div>\n",
       "<style scoped>\n",
       "    .dataframe tbody tr th:only-of-type {\n",
       "        vertical-align: middle;\n",
       "    }\n",
       "\n",
       "    .dataframe tbody tr th {\n",
       "        vertical-align: top;\n",
       "    }\n",
       "\n",
       "    .dataframe thead th {\n",
       "        text-align: right;\n",
       "    }\n",
       "</style>\n",
       "<table border=\"1\" class=\"dataframe\">\n",
       "  <thead>\n",
       "    <tr style=\"text-align: right;\">\n",
       "      <th></th>\n",
       "      <th>Food</th>\n",
       "      <th>Beer</th>\n",
       "      <th>Smoke</th>\n",
       "      <th>Games</th>\n",
       "      <th>Books</th>\n",
       "      <th>Hshld</th>\n",
       "      <th>Clths</th>\n",
       "      <th>Hlth</th>\n",
       "      <th>Chems</th>\n",
       "      <th>Txtls</th>\n",
       "      <th>Cnstr</th>\n",
       "      <th>Steel</th>\n",
       "      <th>FabPr</th>\n",
       "      <th>ElcEq</th>\n",
       "      <th>Autos</th>\n",
       "      <th>Carry</th>\n",
       "      <th>Mines</th>\n",
       "      <th>Coal</th>\n",
       "      <th>Oil</th>\n",
       "      <th>Util</th>\n",
       "      <th>Telcm</th>\n",
       "      <th>Servs</th>\n",
       "      <th>BusEq</th>\n",
       "      <th>Paper</th>\n",
       "      <th>Trans</th>\n",
       "      <th>Whlsl</th>\n",
       "      <th>Rtail</th>\n",
       "      <th>Meals</th>\n",
       "      <th>Fin</th>\n",
       "      <th>Other</th>\n",
       "    </tr>\n",
       "  </thead>\n",
       "  <tbody>\n",
       "    <tr>\n",
       "      <th>1926-07</th>\n",
       "      <td>0.0056</td>\n",
       "      <td>-0.0519</td>\n",
       "      <td>0.0129</td>\n",
       "      <td>0.0293</td>\n",
       "      <td>0.1097</td>\n",
       "      <td>-0.0048</td>\n",
       "      <td>0.0808</td>\n",
       "      <td>0.0177</td>\n",
       "      <td>0.0814</td>\n",
       "      <td>0.0039</td>\n",
       "      <td>0.0207</td>\n",
       "      <td>0.0407</td>\n",
       "      <td>0.0543</td>\n",
       "      <td>0.0318</td>\n",
       "      <td>0.1639</td>\n",
       "      <td>0.0102</td>\n",
       "      <td>0.0564</td>\n",
       "      <td>0.0154</td>\n",
       "      <td>-0.0140</td>\n",
       "      <td>0.0704</td>\n",
       "      <td>0.0083</td>\n",
       "      <td>0.0922</td>\n",
       "      <td>0.0206</td>\n",
       "      <td>0.0770</td>\n",
       "      <td>0.0193</td>\n",
       "      <td>-0.2379</td>\n",
       "      <td>0.0007</td>\n",
       "      <td>0.0187</td>\n",
       "      <td>0.0037</td>\n",
       "      <td>0.0520</td>\n",
       "    </tr>\n",
       "    <tr>\n",
       "      <th>1926-08</th>\n",
       "      <td>0.0259</td>\n",
       "      <td>0.2703</td>\n",
       "      <td>0.0650</td>\n",
       "      <td>0.0055</td>\n",
       "      <td>0.1001</td>\n",
       "      <td>-0.0358</td>\n",
       "      <td>-0.0251</td>\n",
       "      <td>0.0425</td>\n",
       "      <td>0.0550</td>\n",
       "      <td>0.0814</td>\n",
       "      <td>0.0472</td>\n",
       "      <td>0.0217</td>\n",
       "      <td>0.0206</td>\n",
       "      <td>0.0210</td>\n",
       "      <td>0.0423</td>\n",
       "      <td>0.0166</td>\n",
       "      <td>0.0055</td>\n",
       "      <td>0.0085</td>\n",
       "      <td>0.0369</td>\n",
       "      <td>-0.0169</td>\n",
       "      <td>0.0217</td>\n",
       "      <td>0.0202</td>\n",
       "      <td>0.0439</td>\n",
       "      <td>-0.0238</td>\n",
       "      <td>0.0488</td>\n",
       "      <td>0.0539</td>\n",
       "      <td>-0.0075</td>\n",
       "      <td>-0.0013</td>\n",
       "      <td>0.0446</td>\n",
       "      <td>0.0676</td>\n",
       "    </tr>\n",
       "    <tr>\n",
       "      <th>1926-09</th>\n",
       "      <td>0.0116</td>\n",
       "      <td>0.0402</td>\n",
       "      <td>0.0126</td>\n",
       "      <td>0.0658</td>\n",
       "      <td>-0.0099</td>\n",
       "      <td>0.0073</td>\n",
       "      <td>-0.0051</td>\n",
       "      <td>0.0069</td>\n",
       "      <td>0.0533</td>\n",
       "      <td>0.0231</td>\n",
       "      <td>-0.0050</td>\n",
       "      <td>0.0015</td>\n",
       "      <td>0.0036</td>\n",
       "      <td>-0.0056</td>\n",
       "      <td>0.0483</td>\n",
       "      <td>0.0273</td>\n",
       "      <td>0.0174</td>\n",
       "      <td>0.0030</td>\n",
       "      <td>-0.0369</td>\n",
       "      <td>0.0204</td>\n",
       "      <td>0.0241</td>\n",
       "      <td>0.0225</td>\n",
       "      <td>0.0019</td>\n",
       "      <td>-0.0554</td>\n",
       "      <td>0.0005</td>\n",
       "      <td>-0.0787</td>\n",
       "      <td>0.0025</td>\n",
       "      <td>-0.0056</td>\n",
       "      <td>-0.0123</td>\n",
       "      <td>-0.0386</td>\n",
       "    </tr>\n",
       "    <tr>\n",
       "      <th>1926-10</th>\n",
       "      <td>-0.0306</td>\n",
       "      <td>-0.0331</td>\n",
       "      <td>0.0106</td>\n",
       "      <td>-0.0476</td>\n",
       "      <td>0.0947</td>\n",
       "      <td>-0.0468</td>\n",
       "      <td>0.0012</td>\n",
       "      <td>-0.0057</td>\n",
       "      <td>-0.0476</td>\n",
       "      <td>0.0100</td>\n",
       "      <td>-0.0455</td>\n",
       "      <td>-0.0385</td>\n",
       "      <td>0.0111</td>\n",
       "      <td>-0.0573</td>\n",
       "      <td>-0.0793</td>\n",
       "      <td>-0.0556</td>\n",
       "      <td>-0.0320</td>\n",
       "      <td>0.0223</td>\n",
       "      <td>-0.0104</td>\n",
       "      <td>-0.0263</td>\n",
       "      <td>-0.0011</td>\n",
       "      <td>-0.0200</td>\n",
       "      <td>-0.0109</td>\n",
       "      <td>-0.0508</td>\n",
       "      <td>-0.0264</td>\n",
       "      <td>-0.1538</td>\n",
       "      <td>-0.0220</td>\n",
       "      <td>-0.0411</td>\n",
       "      <td>-0.0516</td>\n",
       "      <td>-0.0849</td>\n",
       "    </tr>\n",
       "    <tr>\n",
       "      <th>1926-11</th>\n",
       "      <td>0.0635</td>\n",
       "      <td>0.0729</td>\n",
       "      <td>0.0455</td>\n",
       "      <td>0.0166</td>\n",
       "      <td>-0.0580</td>\n",
       "      <td>-0.0054</td>\n",
       "      <td>0.0187</td>\n",
       "      <td>0.0542</td>\n",
       "      <td>0.0520</td>\n",
       "      <td>0.0311</td>\n",
       "      <td>0.0220</td>\n",
       "      <td>0.0386</td>\n",
       "      <td>0.0318</td>\n",
       "      <td>0.0508</td>\n",
       "      <td>-0.0066</td>\n",
       "      <td>0.0787</td>\n",
       "      <td>0.0846</td>\n",
       "      <td>-0.0048</td>\n",
       "      <td>0.0006</td>\n",
       "      <td>0.0371</td>\n",
       "      <td>0.0163</td>\n",
       "      <td>0.0377</td>\n",
       "      <td>0.0364</td>\n",
       "      <td>0.0384</td>\n",
       "      <td>0.0160</td>\n",
       "      <td>0.0467</td>\n",
       "      <td>0.0652</td>\n",
       "      <td>0.0433</td>\n",
       "      <td>0.0224</td>\n",
       "      <td>0.0400</td>\n",
       "    </tr>\n",
       "  </tbody>\n",
       "</table>\n",
       "</div>"
      ],
      "text/plain": [
       "          Food    Beer    Smoke   Games   Books   Hshld   Clths   Hlth   \\\n",
       "1926-07  0.0056 -0.0519  0.0129  0.0293  0.1097 -0.0048  0.0808  0.0177   \n",
       "1926-08  0.0259  0.2703  0.0650  0.0055  0.1001 -0.0358 -0.0251  0.0425   \n",
       "1926-09  0.0116  0.0402  0.0126  0.0658 -0.0099  0.0073 -0.0051  0.0069   \n",
       "1926-10 -0.0306 -0.0331  0.0106 -0.0476  0.0947 -0.0468  0.0012 -0.0057   \n",
       "1926-11  0.0635  0.0729  0.0455  0.0166 -0.0580 -0.0054  0.0187  0.0542   \n",
       "\n",
       "          Chems   Txtls   Cnstr   Steel   FabPr   ElcEq   Autos   Carry  \\\n",
       "1926-07  0.0814  0.0039  0.0207  0.0407  0.0543  0.0318  0.1639  0.0102   \n",
       "1926-08  0.0550  0.0814  0.0472  0.0217  0.0206  0.0210  0.0423  0.0166   \n",
       "1926-09  0.0533  0.0231 -0.0050  0.0015  0.0036 -0.0056  0.0483  0.0273   \n",
       "1926-10 -0.0476  0.0100 -0.0455 -0.0385  0.0111 -0.0573 -0.0793 -0.0556   \n",
       "1926-11  0.0520  0.0311  0.0220  0.0386  0.0318  0.0508 -0.0066  0.0787   \n",
       "\n",
       "          Mines   Coal    Oil     Util    Telcm   Servs   BusEq   Paper  \\\n",
       "1926-07  0.0564  0.0154 -0.0140  0.0704  0.0083  0.0922  0.0206  0.0770   \n",
       "1926-08  0.0055  0.0085  0.0369 -0.0169  0.0217  0.0202  0.0439 -0.0238   \n",
       "1926-09  0.0174  0.0030 -0.0369  0.0204  0.0241  0.0225  0.0019 -0.0554   \n",
       "1926-10 -0.0320  0.0223 -0.0104 -0.0263 -0.0011 -0.0200 -0.0109 -0.0508   \n",
       "1926-11  0.0846 -0.0048  0.0006  0.0371  0.0163  0.0377  0.0364  0.0384   \n",
       "\n",
       "          Trans   Whlsl   Rtail   Meals   Fin     Other  \n",
       "1926-07  0.0193 -0.2379  0.0007  0.0187  0.0037  0.0520  \n",
       "1926-08  0.0488  0.0539 -0.0075 -0.0013  0.0446  0.0676  \n",
       "1926-09  0.0005 -0.0787  0.0025 -0.0056 -0.0123 -0.0386  \n",
       "1926-10 -0.0264 -0.1538 -0.0220 -0.0411 -0.0516 -0.0849  \n",
       "1926-11  0.0160  0.0467  0.0652  0.0433  0.0224  0.0400  "
      ]
     },
     "execution_count": 88,
     "metadata": {},
     "output_type": "execute_result"
    }
   ],
   "source": [
    "ind.head()"
   ]
  },
  {
   "cell_type": "code",
   "execution_count": 91,
   "metadata": {},
   "outputs": [],
   "source": [
    "ind.columns = ind.columns.str.strip(\"\")"
   ]
  },
  {
   "cell_type": "code",
   "execution_count": 103,
   "metadata": {},
   "outputs": [],
   "source": [
    "def get_ind_returns():\n",
    "    ind = pd.read_csv(\"data/ind30_m_vw_rets.csv\", header=0, index_col=0, parse_dates=True)/100\n",
    "    ind.index = pd.to_datetime(ind.index, format=\"%Y%m\").to_period(\"M\")\n",
    "    ind.columns = ind.columns.str.strip()\n",
    "    return ind\n",
    "\n",
    "def drawdown(return_series: pd.Series):\n",
    "    wealth_index = 1000*(1+return_series).cumprod()\n",
    "    previous_peaks = wealth_index.cummax()\n",
    "    drawdowns = (wealth_index - previous_peaks)/previous_peaks\n",
    "    return pd.DataFrame({\"Wealth\": wealth_index, \n",
    "                         \"Previous Peak\": previous_peaks, \n",
    "                         \"Drawdown\": drawdowns})"
   ]
  },
  {
   "cell_type": "code",
   "execution_count": 99,
   "metadata": {},
   "outputs": [],
   "source": [
    "ind = get_ind_returns()"
   ]
  },
  {
   "cell_type": "code",
   "execution_count": 111,
   "metadata": {},
   "outputs": [
    {
     "data": {
      "text/plain": [
       "<matplotlib.axes._subplots.AxesSubplot at 0x7f4c8df10460>"
      ]
     },
     "execution_count": 111,
     "metadata": {},
     "output_type": "execute_result"
    },
    {
     "data": {
      "image/png": "[encoded data removed]",
      "text/plain": [
       "<Figure size 864x432 with 1 Axes>"
      ]
     },
     "metadata": {
      "needs_background": "light"
     },
     "output_type": "display_data"
    }
   ],
   "source": [
    "drawdown(ind[\"Food\"])[\"Drawdown\"].plot.line(figsize=(12,6))"
   ]
  },
  {
   "cell_type": "code",
   "execution_count": 112,
   "metadata": {},
   "outputs": [
    {
     "data": {
      "text/plain": [
       "Food     0.061207\n",
       "Smoke    0.080292\n",
       "Coal     0.047359\n",
       "Beer     0.033881\n",
       "Fin      0.075199\n",
       "dtype: float64"
      ]
     },
     "execution_count": 112,
     "metadata": {},
     "output_type": "execute_result"
    }
   ],
   "source": [
    "var_gaussian(ind[[\"Food\", \"Smoke\", \"Coal\", \"Beer\", \"Fin\"]], modified=True)"
   ]
  },
  {
   "cell_type": "code",
   "execution_count": 113,
   "metadata": {},
   "outputs": [
    {
     "data": {
      "text/plain": [
       "Carry    0.094527\n",
       "Meals    0.098403\n",
       "BusEq    0.099377\n",
       "Games    0.100701\n",
       "Mines    0.102782\n",
       "dtype: float64"
      ]
     },
     "execution_count": 113,
     "metadata": {},
     "output_type": "execute_result"
    }
   ],
   "source": [
    "var_gaussian(ind, modified=True).sort_values().tail()"
   ]
  },
  {
   "cell_type": "code",
   "execution_count": 114,
   "metadata": {},
   "outputs": [
    {
     "data": {
      "text/plain": [
       "Beer     0.033881\n",
       "Coal     0.047359\n",
       "Food     0.061207\n",
       "Telcm    0.064719\n",
       "Hshld    0.064886\n",
       "dtype: float64"
      ]
     },
     "execution_count": 114,
     "metadata": {},
     "output_type": "execute_result"
    }
   ],
   "source": [
    "var_gaussian(ind, modified=True).sort_values().head()"
   ]
  },
  {
   "cell_type": "code",
   "execution_count": 116,
   "metadata": {},
   "outputs": [
    {
     "data": {
      "text/plain": [
       "<matplotlib.axes._subplots.AxesSubplot at 0x7f4c8dd089a0>"
      ]
     },
     "execution_count": 116,
     "metadata": {},
     "output_type": "execute_result"
    },
    {
     "data": {
      "image/png": "[encoded data removed]",
      "text/plain": [
       "<Figure size 864x432 with 1 Axes>"
      ]
     },
     "metadata": {
      "needs_background": "light"
     },
     "output_type": "display_data"
    }
   ],
   "source": [
    "var_gaussian(ind, modified=True).sort_values().plot.bar(figsize=(12,6))"
   ]
  },
  {
   "cell_type": "code",
   "execution_count": 127,
   "metadata": {},
   "outputs": [
    {
     "data": {
      "text/plain": [
       "<matplotlib.axes._subplots.AxesSubplot at 0x7f4c8da2c790>"
      ]
     },
     "execution_count": 127,
     "metadata": {},
     "output_type": "execute_result"
    },
    {
     "data": {
      "image/png": "[encoded data removed]",
      "text/plain": [
       "<Figure size 864x432 with 1 Axes>"
      ]
     },
     "metadata": {
      "needs_background": "light"
     },
     "output_type": "display_data"
    }
   ],
   "source": [
    "sharpe_ratio(ind[\"2000\":\"2018\"], 0.03, 12).sort_values().plot.bar(figsize=(12,6))"
   ]
  },
  {
   "cell_type": "code",
   "execution_count": 133,
   "metadata": {},
   "outputs": [
    {
     "data": {
      "text/plain": [
       "<matplotlib.axes._subplots.AxesSubplot at 0x7f4c8d7d6160>"
      ]
     },
     "execution_count": 133,
     "metadata": {},
     "output_type": "execute_result"
    },
    {
     "data": {
      "image/png": "[encoded data removed]",
      "text/plain": [
       "<Figure size 864x432 with 1 Axes>"
      ]
     },
     "metadata": {
      "needs_background": "light"
     },
     "output_type": "display_data"
    }
   ],
   "source": [
    "er = annualize_rets(ind[\"1995\":\"2000\"], 12)\n",
    "er.sort_values().plot.bar(figsize=(12,6))"
   ]
  },
  {
   "cell_type": "code",
   "execution_count": 136,
   "metadata": {},
   "outputs": [
    {
     "data": {
      "text/html": [
       "<div>\n",
       "<style scoped>\n",
       "    .dataframe tbody tr th:only-of-type {\n",
       "        vertical-align: middle;\n",
       "    }\n",
       "\n",
       "    .dataframe tbody tr th {\n",
       "        vertical-align: top;\n",
       "    }\n",
       "\n",
       "    .dataframe thead th {\n",
       "        text-align: right;\n",
       "    }\n",
       "</style>\n",
       "<table border=\"1\" class=\"dataframe\">\n",
       "  <thead>\n",
       "    <tr style=\"text-align: right;\">\n",
       "      <th></th>\n",
       "      <th>Food</th>\n",
       "      <th>Beer</th>\n",
       "      <th>Smoke</th>\n",
       "      <th>Games</th>\n",
       "      <th>Books</th>\n",
       "      <th>Hshld</th>\n",
       "      <th>Clths</th>\n",
       "      <th>Hlth</th>\n",
       "      <th>Chems</th>\n",
       "      <th>Txtls</th>\n",
       "      <th>Cnstr</th>\n",
       "      <th>Steel</th>\n",
       "      <th>FabPr</th>\n",
       "      <th>ElcEq</th>\n",
       "      <th>Autos</th>\n",
       "      <th>Carry</th>\n",
       "      <th>Mines</th>\n",
       "      <th>Coal</th>\n",
       "      <th>Oil</th>\n",
       "      <th>Util</th>\n",
       "      <th>Telcm</th>\n",
       "      <th>Servs</th>\n",
       "      <th>BusEq</th>\n",
       "      <th>Paper</th>\n",
       "      <th>Trans</th>\n",
       "      <th>Whlsl</th>\n",
       "      <th>Rtail</th>\n",
       "      <th>Meals</th>\n",
       "      <th>Fin</th>\n",
       "      <th>Other</th>\n",
       "    </tr>\n",
       "  </thead>\n",
       "  <tbody>\n",
       "    <tr>\n",
       "      <th>Food</th>\n",
       "      <td>0.002287</td>\n",
       "      <td>0.002077</td>\n",
       "      <td>0.001757</td>\n",
       "      <td>0.000701</td>\n",
       "      <td>0.000886</td>\n",
       "      <td>0.001208</td>\n",
       "      <td>0.001474</td>\n",
       "      <td>0.001105</td>\n",
       "      <td>0.001253</td>\n",
       "      <td>0.001021</td>\n",
       "      <td>0.001282</td>\n",
       "      <td>0.000027</td>\n",
       "      <td>0.000613</td>\n",
       "      <td>0.001146</td>\n",
       "      <td>0.000547</td>\n",
       "      <td>0.001419</td>\n",
       "      <td>0.000829</td>\n",
       "      <td>0.000034</td>\n",
       "      <td>0.000933</td>\n",
       "      <td>0.000858</td>\n",
       "      <td>0.000610</td>\n",
       "      <td>0.000211</td>\n",
       "      <td>-0.000280</td>\n",
       "      <td>0.001205</td>\n",
       "      <td>0.001312</td>\n",
       "      <td>0.000633</td>\n",
       "      <td>0.001165</td>\n",
       "      <td>0.001085</td>\n",
       "      <td>0.001839</td>\n",
       "      <td>0.000898</td>\n",
       "    </tr>\n",
       "    <tr>\n",
       "      <th>Beer</th>\n",
       "      <td>0.002077</td>\n",
       "      <td>0.004599</td>\n",
       "      <td>0.001143</td>\n",
       "      <td>0.001147</td>\n",
       "      <td>0.000765</td>\n",
       "      <td>0.002447</td>\n",
       "      <td>0.001415</td>\n",
       "      <td>0.001689</td>\n",
       "      <td>0.001292</td>\n",
       "      <td>0.001721</td>\n",
       "      <td>0.001945</td>\n",
       "      <td>0.000131</td>\n",
       "      <td>0.000666</td>\n",
       "      <td>0.001107</td>\n",
       "      <td>0.001296</td>\n",
       "      <td>0.001804</td>\n",
       "      <td>0.000272</td>\n",
       "      <td>0.001261</td>\n",
       "      <td>0.000672</td>\n",
       "      <td>0.000631</td>\n",
       "      <td>0.000978</td>\n",
       "      <td>0.000400</td>\n",
       "      <td>0.000028</td>\n",
       "      <td>0.001455</td>\n",
       "      <td>0.001974</td>\n",
       "      <td>0.000609</td>\n",
       "      <td>0.001442</td>\n",
       "      <td>0.001634</td>\n",
       "      <td>0.002236</td>\n",
       "      <td>0.001196</td>\n",
       "    </tr>\n",
       "    <tr>\n",
       "      <th>Smoke</th>\n",
       "      <td>0.001757</td>\n",
       "      <td>0.001143</td>\n",
       "      <td>0.007130</td>\n",
       "      <td>0.000296</td>\n",
       "      <td>-0.000099</td>\n",
       "      <td>0.000981</td>\n",
       "      <td>0.000761</td>\n",
       "      <td>0.000877</td>\n",
       "      <td>0.000687</td>\n",
       "      <td>0.000555</td>\n",
       "      <td>0.001181</td>\n",
       "      <td>0.000167</td>\n",
       "      <td>0.000668</td>\n",
       "      <td>-0.000013</td>\n",
       "      <td>0.000223</td>\n",
       "      <td>0.001485</td>\n",
       "      <td>0.001311</td>\n",
       "      <td>-0.000544</td>\n",
       "      <td>0.000849</td>\n",
       "      <td>0.001118</td>\n",
       "      <td>0.000057</td>\n",
       "      <td>-0.000266</td>\n",
       "      <td>-0.000300</td>\n",
       "      <td>0.001061</td>\n",
       "      <td>0.000241</td>\n",
       "      <td>0.001363</td>\n",
       "      <td>0.000069</td>\n",
       "      <td>0.000590</td>\n",
       "      <td>0.001117</td>\n",
       "      <td>0.001418</td>\n",
       "    </tr>\n",
       "    <tr>\n",
       "      <th>Games</th>\n",
       "      <td>0.000701</td>\n",
       "      <td>0.001147</td>\n",
       "      <td>0.000296</td>\n",
       "      <td>0.003271</td>\n",
       "      <td>0.001485</td>\n",
       "      <td>0.001018</td>\n",
       "      <td>0.001814</td>\n",
       "      <td>0.001219</td>\n",
       "      <td>0.001547</td>\n",
       "      <td>0.001291</td>\n",
       "      <td>0.001723</td>\n",
       "      <td>0.002670</td>\n",
       "      <td>0.002498</td>\n",
       "      <td>0.001980</td>\n",
       "      <td>0.001994</td>\n",
       "      <td>0.001644</td>\n",
       "      <td>0.001600</td>\n",
       "      <td>0.001557</td>\n",
       "      <td>0.000968</td>\n",
       "      <td>0.000023</td>\n",
       "      <td>0.001615</td>\n",
       "      <td>0.002399</td>\n",
       "      <td>0.002935</td>\n",
       "      <td>0.001615</td>\n",
       "      <td>0.001438</td>\n",
       "      <td>0.001681</td>\n",
       "      <td>0.001649</td>\n",
       "      <td>0.001383</td>\n",
       "      <td>0.002080</td>\n",
       "      <td>0.002088</td>\n",
       "    </tr>\n",
       "    <tr>\n",
       "      <th>Books</th>\n",
       "      <td>0.000886</td>\n",
       "      <td>0.000765</td>\n",
       "      <td>-0.000099</td>\n",
       "      <td>0.001485</td>\n",
       "      <td>0.002302</td>\n",
       "      <td>0.000876</td>\n",
       "      <td>0.002037</td>\n",
       "      <td>0.000657</td>\n",
       "      <td>0.001559</td>\n",
       "      <td>0.001362</td>\n",
       "      <td>0.001531</td>\n",
       "      <td>0.001797</td>\n",
       "      <td>0.001704</td>\n",
       "      <td>0.002084</td>\n",
       "      <td>0.001550</td>\n",
       "      <td>0.001301</td>\n",
       "      <td>0.001281</td>\n",
       "      <td>0.002051</td>\n",
       "      <td>0.000868</td>\n",
       "      <td>0.000455</td>\n",
       "      <td>0.001627</td>\n",
       "      <td>0.001996</td>\n",
       "      <td>0.001624</td>\n",
       "      <td>0.001481</td>\n",
       "      <td>0.001576</td>\n",
       "      <td>0.001205</td>\n",
       "      <td>0.001995</td>\n",
       "      <td>0.001026</td>\n",
       "      <td>0.001979</td>\n",
       "      <td>0.001283</td>\n",
       "    </tr>\n",
       "  </tbody>\n",
       "</table>\n",
       "</div>"
      ],
      "text/plain": [
       "           Food      Beer     Smoke     Games     Books     Hshld     Clths  \\\n",
       "Food   0.002287  0.002077  0.001757  0.000701  0.000886  0.001208  0.001474   \n",
       "Beer   0.002077  0.004599  0.001143  0.001147  0.000765  0.002447  0.001415   \n",
       "Smoke  0.001757  0.001143  0.007130  0.000296 -0.000099  0.000981  0.000761   \n",
       "Games  0.000701  0.001147  0.000296  0.003271  0.001485  0.001018  0.001814   \n",
       "Books  0.000886  0.000765 -0.000099  0.001485  0.002302  0.000876  0.002037   \n",
       "\n",
       "           Hlth     Chems     Txtls     Cnstr     Steel     FabPr     ElcEq  \\\n",
       "Food   0.001105  0.001253  0.001021  0.001282  0.000027  0.000613  0.001146   \n",
       "Beer   0.001689  0.001292  0.001721  0.001945  0.000131  0.000666  0.001107   \n",
       "Smoke  0.000877  0.000687  0.000555  0.001181  0.000167  0.000668 -0.000013   \n",
       "Games  0.001219  0.001547  0.001291  0.001723  0.002670  0.002498  0.001980   \n",
       "Books  0.000657  0.001559  0.001362  0.001531  0.001797  0.001704  0.002084   \n",
       "\n",
       "          Autos     Carry     Mines      Coal       Oil      Util     Telcm  \\\n",
       "Food   0.000547  0.001419  0.000829  0.000034  0.000933  0.000858  0.000610   \n",
       "Beer   0.001296  0.001804  0.000272  0.001261  0.000672  0.000631  0.000978   \n",
       "Smoke  0.000223  0.001485  0.001311 -0.000544  0.000849  0.001118  0.000057   \n",
       "Games  0.001994  0.001644  0.001600  0.001557  0.000968  0.000023  0.001615   \n",
       "Books  0.001550  0.001301  0.001281  0.002051  0.000868  0.000455  0.001627   \n",
       "\n",
       "          Servs     BusEq     Paper     Trans     Whlsl     Rtail     Meals  \\\n",
       "Food   0.000211 -0.000280  0.001205  0.001312  0.000633  0.001165  0.001085   \n",
       "Beer   0.000400  0.000028  0.001455  0.001974  0.000609  0.001442  0.001634   \n",
       "Smoke -0.000266 -0.000300  0.001061  0.000241  0.001363  0.000069  0.000590   \n",
       "Games  0.002399  0.002935  0.001615  0.001438  0.001681  0.001649  0.001383   \n",
       "Books  0.001996  0.001624  0.001481  0.001576  0.001205  0.001995  0.001026   \n",
       "\n",
       "            Fin     Other  \n",
       "Food   0.001839  0.000898  \n",
       "Beer   0.002236  0.001196  \n",
       "Smoke  0.001117  0.001418  \n",
       "Games  0.002080  0.002088  \n",
       "Books  0.001979  0.001283  "
      ]
     },
     "execution_count": 136,
     "metadata": {},
     "output_type": "execute_result"
    }
   ],
   "source": [
    "cov = ind[\"1995\":\"2000\"].cov()\n",
    "cov.head()"
   ]
  },
  {
   "cell_type": "code",
   "execution_count": null,
   "metadata": {},
   "outputs": [],
   "source": []
  }
 ],
 "metadata": {
  "hide_input": false,
  "kernelspec": {
   "display_name": "Python 3",
   "language": "python",
   "name": "python3"
  },
  "language_info": {
   "codemirror_mode": {
    "name": "ipython",
    "version": 3
   },
   "file_extension": ".py",
   "mimetype": "text/x-python",
   "name": "python",
   "nbconvert_exporter": "python",
   "pygments_lexer": "ipython3",
   "version": "3.8.2"
  },
  "toc": {
   "base_numbering": 1,
   "nav_menu": {},
   "number_sections": true,
   "sideBar": true,
   "skip_h1_title": false,
   "title_cell": "Table of Contents",
   "title_sidebar": "Contents",
   "toc_cell": false,
   "toc_position": {
    "height": "calc(100% - 180px)",
    "left": "10px",
    "top": "150px",
    "width": "214.531px"
   },
   "toc_section_display": true,
   "toc_window_display": true
  }
 },
 "nbformat": 4,
 "nbformat_minor": 4
}
